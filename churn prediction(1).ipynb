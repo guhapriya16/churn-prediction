{
 "cells": [
  {
   "cell_type": "code",
   "execution_count": 1,
   "metadata": {},
   "outputs": [],
   "source": [
    "import warnings\n",
    "warnings.filterwarnings('ignore')\n",
    "%matplotlib inline\n",
    "\n",
    "import pandas as pd\n",
    "import numpy as np\n",
    "pd.set_option('display.max_columns', None)\n",
    "import matplotlib.pyplot as plt\n",
    "import seaborn as sns\n",
    "\n",
    "df = pd.read_csv('/home/guha/Ecommerce.csv')"
   ]
  },
  {
   "cell_type": "code",
   "execution_count": 2,
   "metadata": {},
   "outputs": [
    {
     "data": {
      "text/plain": [
       "Index(['Email', 'Address', 'Avatar', 'Avg Session Length', 'Time on App',\n",
       "       'Time on Website', 'Length of Membership', 'Yearly Amount Spent',\n",
       "       'Churned'],\n",
       "      dtype='object')"
      ]
     },
     "execution_count": 2,
     "metadata": {},
     "output_type": "execute_result"
    }
   ],
   "source": [
    "df.columns\n"
   ]
  },
  {
   "cell_type": "code",
   "execution_count": 3,
   "metadata": {},
   "outputs": [],
   "source": [
    "def missing_values_table(df):\n",
    "     \n",
    "    mis_val = df.isnull().sum()\n",
    "    mis_val_percent = 100 * df.isnull().sum() / len(df)\n",
    "    mis_val_type = df.dtypes\n",
    "    mis_val_table = pd.concat([mis_val, mis_val_percent, mis_val_type], axis=1)\n",
    "    mis_val_table_ren_columns = mis_val_table.rename(columns = {0 : 'Missing Values', 1 : '% of Total Values', 2: 'type'})\n",
    "    mis_val_table_ren_columns = mis_val_table_ren_columns[ mis_val_table_ren_columns.iloc[:,1] != 0].sort_values('% of Total Values', ascending=False).round(1)      \n",
    "    print (\"Your selected dataframe has \" + str(df.shape[1]) + \" columns.\\n\" \"There are \" + str(mis_val_table_ren_columns.shape[0]) + \" columns that have missing values.\")\n",
    "    return mis_val_table_ren_columns"
   ]
  },
  {
   "cell_type": "code",
   "execution_count": 23,
   "metadata": {},
   "outputs": [],
   "source": [
    "def plot_var(col_name, full_name, continuous):\n",
    "\n",
    "    fig, (ax1, ax2) = plt.subplots(1, 2, sharex=False, figsize=(15,3))\n",
    "   \n",
    "    if continuous:  \n",
    "        sns.distplot(df.loc[df[col_name].notnull(), col_name], kde=False, ax=ax1)\n",
    "    else:\n",
    "        sns.countplot(df[col_name], order=sorted(df[col_name].unique()), color='#5975A4', saturation=1, ax=ax1)\n",
    "    ax1.set_xlabel(full_name)\n",
    "    ax1.set_ylabel('Count')\n",
    "    ax1.set_title(full_name+' by Count Plot')\n",
    "\n",
    "    if continuous:\n",
    "        sns.boxplot(x=col_name, y='Churned', data=df, ax=ax2)\n",
    "        ax2.set_ylabel('')\n",
    "        ax2.set_title(full_name+' by Box Plot')\n",
    "    else:\n",
    "        Charged_Off_rates = df.groupby(col_name)['ch'].value_counts(normalize=True)[:,1]\n",
    "        sns.barplot(x=Charged_Off_rates.index, y=Charged_Off_rates.values, color='#5975A4', saturation=1, ax=ax2)\n",
    "        ax2.set_ylabel('Fraction churned')\n",
    "        ax2.set_title('churned Rate ' )\n",
    "        ax2.set_xlabel('Bar plot')\n",
    "    \n",
    "    if continuous:  \n",
    "        facet = sns.FacetGrid(df, hue = 'Churned', size=3, aspect=4)\n",
    "        facet.map(sns.kdeplot, col_name, shade=True)\n",
    "        facet.add_legend()  \n",
    "    else:\n",
    "        fig = plt.figure(figsize=(12,3))\n",
    "        sns.countplot(x=col_name, hue='Churned', data=df, order=sorted(df[col_name].unique()) )\n",
    "     \n",
    "    plt.tight_layout()"
   ]
  },
  {
   "cell_type": "code",
   "execution_count": 5,
   "metadata": {},
   "outputs": [
    {
     "name": "stdout",
     "output_type": "stream",
     "text": [
      "<class 'pandas.core.frame.DataFrame'>\n",
      "RangeIndex: 500 entries, 0 to 499\n",
      "Data columns (total 9 columns):\n",
      " #   Column                Non-Null Count  Dtype  \n",
      "---  ------                --------------  -----  \n",
      " 0   Email                 500 non-null    object \n",
      " 1   Address               500 non-null    object \n",
      " 2   Avatar                500 non-null    object \n",
      " 3   Avg Session Length    500 non-null    float64\n",
      " 4   Time on App           500 non-null    float64\n",
      " 5   Time on Website       500 non-null    float64\n",
      " 6   Length of Membership  500 non-null    float64\n",
      " 7   Yearly Amount Spent   500 non-null    float64\n",
      " 8   Churned               500 non-null    object \n",
      "dtypes: float64(5), object(4)\n",
      "memory usage: 35.3+ KB\n"
     ]
    }
   ],
   "source": [
    "df.info()"
   ]
  },
  {
   "cell_type": "code",
   "execution_count": 6,
   "metadata": {},
   "outputs": [
    {
     "name": "stdout",
     "output_type": "stream",
     "text": [
      "Your selected dataframe has 9 columns.\n",
      "There are 0 columns that have missing values.\n"
     ]
    },
    {
     "data": {
      "text/html": [
       "<div>\n",
       "<style scoped>\n",
       "    .dataframe tbody tr th:only-of-type {\n",
       "        vertical-align: middle;\n",
       "    }\n",
       "\n",
       "    .dataframe tbody tr th {\n",
       "        vertical-align: top;\n",
       "    }\n",
       "\n",
       "    .dataframe thead th {\n",
       "        text-align: right;\n",
       "    }\n",
       "</style>\n",
       "<table border=\"1\" class=\"dataframe\">\n",
       "  <thead>\n",
       "    <tr style=\"text-align: right;\">\n",
       "      <th></th>\n",
       "      <th>Missing Values</th>\n",
       "      <th>% of Total Values</th>\n",
       "      <th>type</th>\n",
       "    </tr>\n",
       "  </thead>\n",
       "  <tbody>\n",
       "  </tbody>\n",
       "</table>\n",
       "</div>"
      ],
      "text/plain": [
       "Empty DataFrame\n",
       "Columns: [Missing Values, % of Total Values, type]\n",
       "Index: []"
      ]
     },
     "execution_count": 6,
     "metadata": {},
     "output_type": "execute_result"
    }
   ],
   "source": [
    "missing_values_table(df)"
   ]
  },
  {
   "cell_type": "code",
   "execution_count": 7,
   "metadata": {},
   "outputs": [
    {
     "data": {
      "text/html": [
       "<div>\n",
       "<style scoped>\n",
       "    .dataframe tbody tr th:only-of-type {\n",
       "        vertical-align: middle;\n",
       "    }\n",
       "\n",
       "    .dataframe tbody tr th {\n",
       "        vertical-align: top;\n",
       "    }\n",
       "\n",
       "    .dataframe thead th {\n",
       "        text-align: right;\n",
       "    }\n",
       "</style>\n",
       "<table border=\"1\" class=\"dataframe\">\n",
       "  <thead>\n",
       "    <tr style=\"text-align: right;\">\n",
       "      <th></th>\n",
       "      <th>Email</th>\n",
       "      <th>Address</th>\n",
       "      <th>Avatar</th>\n",
       "      <th>Avg Session Length</th>\n",
       "      <th>Time on App</th>\n",
       "      <th>Time on Website</th>\n",
       "      <th>Length of Membership</th>\n",
       "      <th>Yearly Amount Spent</th>\n",
       "      <th>Churned</th>\n",
       "    </tr>\n",
       "  </thead>\n",
       "  <tbody>\n",
       "    <tr>\n",
       "      <th>447</th>\n",
       "      <td>sharongraves@yahoo.com</td>\n",
       "      <td>73098 Ronald PortCliffordborough, MO 37479-9244</td>\n",
       "      <td>Wheat</td>\n",
       "      <td>32.904854</td>\n",
       "      <td>12.556108</td>\n",
       "      <td>37.805509</td>\n",
       "      <td>0.269901</td>\n",
       "      <td>314.438518</td>\n",
       "      <td>Yes</td>\n",
       "    </tr>\n",
       "    <tr>\n",
       "      <th>73</th>\n",
       "      <td>williamsjohnny@ferguson.info</td>\n",
       "      <td>51920 Kent Junctions Apt. 352Walkerport, NY 11...</td>\n",
       "      <td>LightYellow</td>\n",
       "      <td>32.808698</td>\n",
       "      <td>12.817113</td>\n",
       "      <td>37.031539</td>\n",
       "      <td>3.851579</td>\n",
       "      <td>534.777188</td>\n",
       "      <td>No</td>\n",
       "    </tr>\n",
       "    <tr>\n",
       "      <th>209</th>\n",
       "      <td>wagnerbrian@hotmail.com</td>\n",
       "      <td>50593 Wells Roads Apt. 110South Amy, MI 06969-...</td>\n",
       "      <td>AliceBlue</td>\n",
       "      <td>32.559493</td>\n",
       "      <td>11.797796</td>\n",
       "      <td>37.777366</td>\n",
       "      <td>3.195626</td>\n",
       "      <td>468.668466</td>\n",
       "      <td>Yes</td>\n",
       "    </tr>\n",
       "    <tr>\n",
       "      <th>30</th>\n",
       "      <td>jenniferbarnett@gmail.com</td>\n",
       "      <td>0772 Michael Isle Suite 617Meyerstown, WA 4544...</td>\n",
       "      <td>SeaGreen</td>\n",
       "      <td>33.241900</td>\n",
       "      <td>12.305418</td>\n",
       "      <td>36.163648</td>\n",
       "      <td>3.062368</td>\n",
       "      <td>497.586671</td>\n",
       "      <td>No</td>\n",
       "    </tr>\n",
       "    <tr>\n",
       "      <th>70</th>\n",
       "      <td>walkerlaura@peterson-yates.com</td>\n",
       "      <td>89154 Jones Stream Suite 311East Katie, NC 727...</td>\n",
       "      <td>LightGreen</td>\n",
       "      <td>33.154176</td>\n",
       "      <td>11.887494</td>\n",
       "      <td>36.265001</td>\n",
       "      <td>2.602287</td>\n",
       "      <td>444.966552</td>\n",
       "      <td>Yes</td>\n",
       "    </tr>\n",
       "    <tr>\n",
       "      <th>444</th>\n",
       "      <td>webertom@phelps.com</td>\n",
       "      <td>189 Crawford Hill Apt. 746New Madison, WV 1410...</td>\n",
       "      <td>DarkOrchid</td>\n",
       "      <td>31.268104</td>\n",
       "      <td>12.132509</td>\n",
       "      <td>35.456798</td>\n",
       "      <td>3.072076</td>\n",
       "      <td>423.470533</td>\n",
       "      <td>Yes</td>\n",
       "    </tr>\n",
       "    <tr>\n",
       "      <th>406</th>\n",
       "      <td>charlesjackson@brady-fuller.net</td>\n",
       "      <td>3802 Veronica CausewayEast Patrickfurt, DC 84522</td>\n",
       "      <td>GhostWhite</td>\n",
       "      <td>32.865301</td>\n",
       "      <td>12.074830</td>\n",
       "      <td>35.569170</td>\n",
       "      <td>2.399080</td>\n",
       "      <td>411.186964</td>\n",
       "      <td>Yes</td>\n",
       "    </tr>\n",
       "    <tr>\n",
       "      <th>267</th>\n",
       "      <td>deborah51@yahoo.com</td>\n",
       "      <td>4190 Shelton HarborsNorth Christopher, RI 60962</td>\n",
       "      <td>Violet</td>\n",
       "      <td>33.732648</td>\n",
       "      <td>12.138794</td>\n",
       "      <td>36.853882</td>\n",
       "      <td>1.623420</td>\n",
       "      <td>399.983872</td>\n",
       "      <td>Yes</td>\n",
       "    </tr>\n",
       "    <tr>\n",
       "      <th>419</th>\n",
       "      <td>wesleyvance@moore.com</td>\n",
       "      <td>210 Johnson Street Suite 717New Bethanyborough...</td>\n",
       "      <td>Magenta</td>\n",
       "      <td>33.717555</td>\n",
       "      <td>10.806966</td>\n",
       "      <td>36.012317</td>\n",
       "      <td>3.701229</td>\n",
       "      <td>483.543194</td>\n",
       "      <td>Yes</td>\n",
       "    </tr>\n",
       "    <tr>\n",
       "      <th>156</th>\n",
       "      <td>fsnow@ellis.com</td>\n",
       "      <td>0272 Jones WayLake Angela, MP 97003-5793</td>\n",
       "      <td>MediumBlue</td>\n",
       "      <td>32.294642</td>\n",
       "      <td>12.443048</td>\n",
       "      <td>37.327848</td>\n",
       "      <td>5.084861</td>\n",
       "      <td>586.155870</td>\n",
       "      <td>No</td>\n",
       "    </tr>\n",
       "  </tbody>\n",
       "</table>\n",
       "</div>"
      ],
      "text/plain": [
       "                               Email  \\\n",
       "447           sharongraves@yahoo.com   \n",
       "73      williamsjohnny@ferguson.info   \n",
       "209          wagnerbrian@hotmail.com   \n",
       "30         jenniferbarnett@gmail.com   \n",
       "70    walkerlaura@peterson-yates.com   \n",
       "444              webertom@phelps.com   \n",
       "406  charlesjackson@brady-fuller.net   \n",
       "267              deborah51@yahoo.com   \n",
       "419            wesleyvance@moore.com   \n",
       "156                  fsnow@ellis.com   \n",
       "\n",
       "                                               Address       Avatar  \\\n",
       "447    73098 Ronald PortCliffordborough, MO 37479-9244        Wheat   \n",
       "73   51920 Kent Junctions Apt. 352Walkerport, NY 11...  LightYellow   \n",
       "209  50593 Wells Roads Apt. 110South Amy, MI 06969-...    AliceBlue   \n",
       "30   0772 Michael Isle Suite 617Meyerstown, WA 4544...     SeaGreen   \n",
       "70   89154 Jones Stream Suite 311East Katie, NC 727...   LightGreen   \n",
       "444  189 Crawford Hill Apt. 746New Madison, WV 1410...   DarkOrchid   \n",
       "406   3802 Veronica CausewayEast Patrickfurt, DC 84522   GhostWhite   \n",
       "267    4190 Shelton HarborsNorth Christopher, RI 60962       Violet   \n",
       "419  210 Johnson Street Suite 717New Bethanyborough...      Magenta   \n",
       "156           0272 Jones WayLake Angela, MP 97003-5793   MediumBlue   \n",
       "\n",
       "     Avg Session Length  Time on App  Time on Website  Length of Membership  \\\n",
       "447           32.904854    12.556108        37.805509              0.269901   \n",
       "73            32.808698    12.817113        37.031539              3.851579   \n",
       "209           32.559493    11.797796        37.777366              3.195626   \n",
       "30            33.241900    12.305418        36.163648              3.062368   \n",
       "70            33.154176    11.887494        36.265001              2.602287   \n",
       "444           31.268104    12.132509        35.456798              3.072076   \n",
       "406           32.865301    12.074830        35.569170              2.399080   \n",
       "267           33.732648    12.138794        36.853882              1.623420   \n",
       "419           33.717555    10.806966        36.012317              3.701229   \n",
       "156           32.294642    12.443048        37.327848              5.084861   \n",
       "\n",
       "     Yearly Amount Spent Churned  \n",
       "447           314.438518     Yes  \n",
       "73            534.777188      No  \n",
       "209           468.668466     Yes  \n",
       "30            497.586671      No  \n",
       "70            444.966552     Yes  \n",
       "444           423.470533     Yes  \n",
       "406           411.186964     Yes  \n",
       "267           399.983872     Yes  \n",
       "419           483.543194     Yes  \n",
       "156           586.155870      No  "
      ]
     },
     "execution_count": 7,
     "metadata": {},
     "output_type": "execute_result"
    }
   ],
   "source": [
    "df.sample(10)"
   ]
  },
  {
   "cell_type": "code",
   "execution_count": 8,
   "metadata": {},
   "outputs": [
    {
     "data": {
      "text/plain": [
       "'Yes'"
      ]
     },
     "execution_count": 8,
     "metadata": {},
     "output_type": "execute_result"
    }
   ],
   "source": [
    "df['Churned'][300]"
   ]
  },
  {
   "cell_type": "code",
   "execution_count": 9,
   "metadata": {},
   "outputs": [],
   "source": [
    "df['Churned'] = df['Churned'].map(lambda x: x.strip())"
   ]
  },
  {
   "cell_type": "code",
   "execution_count": 10,
   "metadata": {},
   "outputs": [
    {
     "data": {
      "text/html": [
       "<div>\n",
       "<style scoped>\n",
       "    .dataframe tbody tr th:only-of-type {\n",
       "        vertical-align: middle;\n",
       "    }\n",
       "\n",
       "    .dataframe tbody tr th {\n",
       "        vertical-align: top;\n",
       "    }\n",
       "\n",
       "    .dataframe thead th {\n",
       "        text-align: right;\n",
       "    }\n",
       "</style>\n",
       "<table border=\"1\" class=\"dataframe\">\n",
       "  <thead>\n",
       "    <tr style=\"text-align: right;\">\n",
       "      <th></th>\n",
       "      <th>Email</th>\n",
       "      <th>Address</th>\n",
       "      <th>Avatar</th>\n",
       "      <th>Avg Session Length</th>\n",
       "      <th>Time on App</th>\n",
       "      <th>Time on Website</th>\n",
       "      <th>Length of Membership</th>\n",
       "      <th>Yearly Amount Spent</th>\n",
       "      <th>Churned</th>\n",
       "    </tr>\n",
       "  </thead>\n",
       "  <tbody>\n",
       "    <tr>\n",
       "      <th>158</th>\n",
       "      <td>casey21@johnson.com</td>\n",
       "      <td>691 Johnson Field Apt. 510Michaelville, VI 78140</td>\n",
       "      <td>SpringGreen</td>\n",
       "      <td>33.598520</td>\n",
       "      <td>11.586320</td>\n",
       "      <td>39.094627</td>\n",
       "      <td>3.604399</td>\n",
       "      <td>512.825358</td>\n",
       "      <td>No</td>\n",
       "    </tr>\n",
       "    <tr>\n",
       "      <th>428</th>\n",
       "      <td>kevin45@mathews.net</td>\n",
       "      <td>02393 Baker FallsNew Georgeport, ND 36338-5110</td>\n",
       "      <td>DodgerBlue</td>\n",
       "      <td>31.862741</td>\n",
       "      <td>14.039867</td>\n",
       "      <td>37.022269</td>\n",
       "      <td>3.738225</td>\n",
       "      <td>556.298141</td>\n",
       "      <td>No</td>\n",
       "    </tr>\n",
       "    <tr>\n",
       "      <th>301</th>\n",
       "      <td>javier02@landry.net</td>\n",
       "      <td>Unit 7029 Box 3429DPO AE 56975</td>\n",
       "      <td>CadetBlue</td>\n",
       "      <td>33.026420</td>\n",
       "      <td>13.186813</td>\n",
       "      <td>38.066930</td>\n",
       "      <td>2.898300</td>\n",
       "      <td>489.908053</td>\n",
       "      <td>Yes</td>\n",
       "    </tr>\n",
       "    <tr>\n",
       "      <th>220</th>\n",
       "      <td>madisonalexander@gmail.com</td>\n",
       "      <td>791 Allen Trafficway Suite 776Christopherland,...</td>\n",
       "      <td>Orange</td>\n",
       "      <td>34.117567</td>\n",
       "      <td>11.591872</td>\n",
       "      <td>37.743620</td>\n",
       "      <td>3.678589</td>\n",
       "      <td>519.372977</td>\n",
       "      <td>No</td>\n",
       "    </tr>\n",
       "    <tr>\n",
       "      <th>429</th>\n",
       "      <td>deborah48@white.com</td>\n",
       "      <td>1693 Gary Mission Suite 479Lake Kelly, MO 68205</td>\n",
       "      <td>DarkGreen</td>\n",
       "      <td>33.292587</td>\n",
       "      <td>11.906508</td>\n",
       "      <td>38.422865</td>\n",
       "      <td>3.376688</td>\n",
       "      <td>502.132789</td>\n",
       "      <td>No</td>\n",
       "    </tr>\n",
       "  </tbody>\n",
       "</table>\n",
       "</div>"
      ],
      "text/plain": [
       "                          Email  \\\n",
       "158         casey21@johnson.com   \n",
       "428         kevin45@mathews.net   \n",
       "301         javier02@landry.net   \n",
       "220  madisonalexander@gmail.com   \n",
       "429         deborah48@white.com   \n",
       "\n",
       "                                               Address       Avatar  \\\n",
       "158   691 Johnson Field Apt. 510Michaelville, VI 78140  SpringGreen   \n",
       "428     02393 Baker FallsNew Georgeport, ND 36338-5110   DodgerBlue   \n",
       "301                     Unit 7029 Box 3429DPO AE 56975    CadetBlue   \n",
       "220  791 Allen Trafficway Suite 776Christopherland,...       Orange   \n",
       "429    1693 Gary Mission Suite 479Lake Kelly, MO 68205    DarkGreen   \n",
       "\n",
       "     Avg Session Length  Time on App  Time on Website  Length of Membership  \\\n",
       "158           33.598520    11.586320        39.094627              3.604399   \n",
       "428           31.862741    14.039867        37.022269              3.738225   \n",
       "301           33.026420    13.186813        38.066930              2.898300   \n",
       "220           34.117567    11.591872        37.743620              3.678589   \n",
       "429           33.292587    11.906508        38.422865              3.376688   \n",
       "\n",
       "     Yearly Amount Spent Churned  \n",
       "158           512.825358      No  \n",
       "428           556.298141      No  \n",
       "301           489.908053     Yes  \n",
       "220           519.372977      No  \n",
       "429           502.132789      No  "
      ]
     },
     "execution_count": 10,
     "metadata": {},
     "output_type": "execute_result"
    }
   ],
   "source": [
    "df.sample(5)"
   ]
  },
  {
   "cell_type": "code",
   "execution_count": 11,
   "metadata": {},
   "outputs": [
    {
     "data": {
      "text/plain": [
       "No     0.538\n",
       "Yes    0.462\n",
       "Name: Churned, dtype: float64"
      ]
     },
     "execution_count": 11,
     "metadata": {},
     "output_type": "execute_result"
    }
   ],
   "source": [
    "df.Churned.value_counts(normalize='Yes')\n"
   ]
  },
  {
   "cell_type": "code",
   "execution_count": 12,
   "metadata": {},
   "outputs": [
    {
     "data": {
      "text/html": [
       "<div>\n",
       "<style scoped>\n",
       "    .dataframe tbody tr th:only-of-type {\n",
       "        vertical-align: middle;\n",
       "    }\n",
       "\n",
       "    .dataframe tbody tr th {\n",
       "        vertical-align: top;\n",
       "    }\n",
       "\n",
       "    .dataframe thead th {\n",
       "        text-align: right;\n",
       "    }\n",
       "</style>\n",
       "<table border=\"1\" class=\"dataframe\">\n",
       "  <thead>\n",
       "    <tr style=\"text-align: right;\">\n",
       "      <th></th>\n",
       "      <th>Avg Session Length</th>\n",
       "      <th>Time on App</th>\n",
       "      <th>Time on Website</th>\n",
       "      <th>Length of Membership</th>\n",
       "      <th>Yearly Amount Spent</th>\n",
       "    </tr>\n",
       "    <tr>\n",
       "      <th>Churned</th>\n",
       "      <th></th>\n",
       "      <th></th>\n",
       "      <th></th>\n",
       "      <th></th>\n",
       "      <th></th>\n",
       "    </tr>\n",
       "  </thead>\n",
       "  <tbody>\n",
       "    <tr>\n",
       "      <th>No</th>\n",
       "      <td>33.348046</td>\n",
       "      <td>12.366559</td>\n",
       "      <td>37.080371</td>\n",
       "      <td>4.085011</td>\n",
       "      <td>554.029523</td>\n",
       "    </tr>\n",
       "    <tr>\n",
       "      <th>Yes</th>\n",
       "      <td>32.709837</td>\n",
       "      <td>11.686751</td>\n",
       "      <td>37.037242</td>\n",
       "      <td>2.891181</td>\n",
       "      <td>435.597738</td>\n",
       "    </tr>\n",
       "  </tbody>\n",
       "</table>\n",
       "</div>"
      ],
      "text/plain": [
       "         Avg Session Length  Time on App  Time on Website  \\\n",
       "Churned                                                     \n",
       "No                33.348046    12.366559        37.080371   \n",
       "Yes               32.709837    11.686751        37.037242   \n",
       "\n",
       "         Length of Membership  Yearly Amount Spent  \n",
       "Churned                                             \n",
       "No                   4.085011           554.029523  \n",
       "Yes                  2.891181           435.597738  "
      ]
     },
     "execution_count": 12,
     "metadata": {},
     "output_type": "execute_result"
    }
   ],
   "source": [
    "df.groupby('Churned').mean()"
   ]
  },
  {
   "cell_type": "code",
   "execution_count": 13,
   "metadata": {},
   "outputs": [],
   "source": [
    "from scipy.stats import ks_2samp\n",
    "def run_KS_test(feature):\n",
    "    dist1 = df.loc[df.Churned == 'No',feature]\n",
    "    dist2 = df.loc[df.Churned == 'Yes',feature]\n",
    "    print(feature+':')\n",
    "    print(ks_2samp(dist1,dist2),'\\n')"
   ]
  },
  {
   "cell_type": "code",
   "execution_count": 14,
   "metadata": {},
   "outputs": [],
   "source": [
    "from statsmodels.stats.proportion import proportions_ztest\n",
    "def run_proportion_Z_test(feature):\n",
    "    dist1 = df.loc[df.Churned == 'No', feature]\n",
    "    dist2 = df.loc[df.Churned == 'Yes', feature]\n",
    "    n1 = len(dist1)\n",
    "    p1 = dist1.sum()\n",
    "    n2 = len(dist2)\n",
    "    p2 = dist2.sum()\n",
    "    z_score, p_value = proportions_ztest([p1, p2], [n1, n2])\n",
    "    print(feature+':')\n",
    "    print('z-score = {}; p-value = {}'.format(z_score, p_value),'\\n')"
   ]
  },
  {
   "cell_type": "code",
   "execution_count": 15,
   "metadata": {},
   "outputs": [],
   "source": [
    "ks_list = ['Avg Session Length', 'Time on App',\n",
    "       'Time on Website', 'Length of Membership', 'Yearly Amount Spent']"
   ]
  },
  {
   "cell_type": "code",
   "execution_count": 24,
   "metadata": {},
   "outputs": [
    {
     "data": {
      "image/png": "[encoded data removed]",
      "text/plain": [
       "<Figure size 1080x216 with 2 Axes>"
      ]
     },
     "metadata": {
      "needs_background": "light"
     },
     "output_type": "display_data"
    },
    {
     "data": {
      "image/png": "[encoded data removed]",
      "text/plain": [
       "<Figure size 917.359x216 with 1 Axes>"
      ]
     },
     "metadata": {
      "needs_background": "light"
     },
     "output_type": "display_data"
    },
    {
     "data": {
      "image/png": "[encoded data removed]",
      "text/plain": [
       "<Figure size 1080x216 with 2 Axes>"
      ]
     },
     "metadata": {
      "needs_background": "light"
     },
     "output_type": "display_data"
    },
    {
     "data": {
      "image/png": "[encoded data removed]",
      "text/plain": [
       "<Figure size 917.359x216 with 1 Axes>"
      ]
     },
     "metadata": {
      "needs_background": "light"
     },
     "output_type": "display_data"
    },
    {
     "data": {
      "image/png": "[encoded data removed]",
      "text/plain": [
       "<Figure size 1080x216 with 2 Axes>"
      ]
     },
     "metadata": {
      "needs_background": "light"
     },
     "output_type": "display_data"
    },
    {
     "data": {
      "image/png": "[encoded data removed]",
      "text/plain": [
       "<Figure size 917.359x216 with 1 Axes>"
      ]
     },
     "metadata": {
      "needs_background": "light"
     },
     "output_type": "display_data"
    },
    {
     "data": {
      "image/png": "[encoded data removed]",
      "text/plain": [
       "<Figure size 1080x216 with 2 Axes>"
      ]
     },
     "metadata": {
      "needs_background": "light"
     },
     "output_type": "display_data"
    },
    {
     "data": {
      "image/png": "[encoded data removed]",
      "text/plain": [
       "<Figure size 917.359x216 with 1 Axes>"
      ]
     },
     "metadata": {
      "needs_background": "light"
     },
     "output_type": "display_data"
    },
    {
     "data": {
      "image/png": "[encoded data removed]",
      "text/plain": [
       "<Figure size 1080x216 with 2 Axes>"
      ]
     },
     "metadata": {
      "needs_background": "light"
     },
     "output_type": "display_data"
    },
    {
     "data": {
      "image/png": "[encoded data removed]",
      "text/plain": [
       "<Figure size 917.359x216 with 1 Axes>"
      ]
     },
     "metadata": {
      "needs_background": "light"
     },
     "output_type": "display_data"
    }
   ],
   "source": [
    "for plot_element in ks_list:\n",
    "    plot_var(plot_element, plot_element, continuous=True)"
   ]
  },
  {
   "cell_type": "code",
   "execution_count": 17,
   "metadata": {},
   "outputs": [],
   "source": [
    "#Linear Correlation\n",
    "df.churned = df.Churned.map({'No':0, 'Yes':1})"
   ]
  },
  {
   "cell_type": "code",
   "execution_count": 18,
   "metadata": {},
   "outputs": [
    {
     "data": {
      "image/png": "[encoded data removed]",
      "text/plain": [
       "<Figure size 1080x720 with 2 Axes>"
      ]
     },
     "metadata": {
      "needs_background": "light"
     },
     "output_type": "display_data"
    }
   ],
   "source": [
    "fig, ax = plt.subplots(figsize=(15,10))         # Sample figsize in inches\n",
    "cm_df = sns.heatmap(df.corr(),annot=True, fmt = \".2f\", cmap = \"coolwarm\", ax=ax)"
   ]
  },
  {
   "cell_type": "code",
   "execution_count": 19,
   "metadata": {},
   "outputs": [
    {
     "data": {
      "text/html": [
       "<div>\n",
       "<style scoped>\n",
       "    .dataframe tbody tr th:only-of-type {\n",
       "        vertical-align: middle;\n",
       "    }\n",
       "\n",
       "    .dataframe tbody tr th {\n",
       "        vertical-align: top;\n",
       "    }\n",
       "\n",
       "    .dataframe thead th {\n",
       "        text-align: right;\n",
       "    }\n",
       "</style>\n",
       "<table border=\"1\" class=\"dataframe\">\n",
       "  <thead>\n",
       "    <tr style=\"text-align: right;\">\n",
       "      <th></th>\n",
       "      <th>Email</th>\n",
       "      <th>Address</th>\n",
       "      <th>Avatar</th>\n",
       "      <th>Avg Session Length</th>\n",
       "      <th>Time on App</th>\n",
       "      <th>Time on Website</th>\n",
       "      <th>Length of Membership</th>\n",
       "      <th>Yearly Amount Spent</th>\n",
       "      <th>Churned</th>\n",
       "    </tr>\n",
       "  </thead>\n",
       "  <tbody>\n",
       "    <tr>\n",
       "      <th>0</th>\n",
       "      <td>mstephenson@fernandez.com</td>\n",
       "      <td>835 Frank TunnelWrightmouth, MI 82180-9605</td>\n",
       "      <td>Violet</td>\n",
       "      <td>34.497268</td>\n",
       "      <td>12.655651</td>\n",
       "      <td>39.577668</td>\n",
       "      <td>4.082621</td>\n",
       "      <td>587.951054</td>\n",
       "      <td>No</td>\n",
       "    </tr>\n",
       "    <tr>\n",
       "      <th>1</th>\n",
       "      <td>hduke@hotmail.com</td>\n",
       "      <td>4547 Archer CommonDiazchester, CA 06566-8576</td>\n",
       "      <td>DarkGreen</td>\n",
       "      <td>31.926272</td>\n",
       "      <td>11.109461</td>\n",
       "      <td>37.268959</td>\n",
       "      <td>2.664034</td>\n",
       "      <td>392.204933</td>\n",
       "      <td>Yes</td>\n",
       "    </tr>\n",
       "    <tr>\n",
       "      <th>2</th>\n",
       "      <td>pallen@yahoo.com</td>\n",
       "      <td>24645 Valerie Unions Suite 582Cobbborough, DC ...</td>\n",
       "      <td>Bisque</td>\n",
       "      <td>33.000915</td>\n",
       "      <td>11.330278</td>\n",
       "      <td>37.110597</td>\n",
       "      <td>4.104543</td>\n",
       "      <td>487.547505</td>\n",
       "      <td>No</td>\n",
       "    </tr>\n",
       "    <tr>\n",
       "      <th>3</th>\n",
       "      <td>riverarebecca@gmail.com</td>\n",
       "      <td>1414 David ThroughwayPort Jason, OH 22070-1220</td>\n",
       "      <td>SaddleBrown</td>\n",
       "      <td>34.305557</td>\n",
       "      <td>13.717514</td>\n",
       "      <td>36.721283</td>\n",
       "      <td>3.120179</td>\n",
       "      <td>581.852344</td>\n",
       "      <td>No</td>\n",
       "    </tr>\n",
       "    <tr>\n",
       "      <th>4</th>\n",
       "      <td>mstephens@davidson-herman.com</td>\n",
       "      <td>14023 Rodriguez PassagePort Jacobville, PR 372...</td>\n",
       "      <td>MediumAquaMarine</td>\n",
       "      <td>33.330673</td>\n",
       "      <td>12.795189</td>\n",
       "      <td>37.536653</td>\n",
       "      <td>4.446308</td>\n",
       "      <td>599.406092</td>\n",
       "      <td>No</td>\n",
       "    </tr>\n",
       "  </tbody>\n",
       "</table>\n",
       "</div>"
      ],
      "text/plain": [
       "                           Email  \\\n",
       "0      mstephenson@fernandez.com   \n",
       "1              hduke@hotmail.com   \n",
       "2               pallen@yahoo.com   \n",
       "3        riverarebecca@gmail.com   \n",
       "4  mstephens@davidson-herman.com   \n",
       "\n",
       "                                             Address            Avatar  \\\n",
       "0         835 Frank TunnelWrightmouth, MI 82180-9605            Violet   \n",
       "1       4547 Archer CommonDiazchester, CA 06566-8576         DarkGreen   \n",
       "2  24645 Valerie Unions Suite 582Cobbborough, DC ...            Bisque   \n",
       "3     1414 David ThroughwayPort Jason, OH 22070-1220       SaddleBrown   \n",
       "4  14023 Rodriguez PassagePort Jacobville, PR 372...  MediumAquaMarine   \n",
       "\n",
       "   Avg Session Length  Time on App  Time on Website  Length of Membership  \\\n",
       "0           34.497268    12.655651        39.577668              4.082621   \n",
       "1           31.926272    11.109461        37.268959              2.664034   \n",
       "2           33.000915    11.330278        37.110597              4.104543   \n",
       "3           34.305557    13.717514        36.721283              3.120179   \n",
       "4           33.330673    12.795189        37.536653              4.446308   \n",
       "\n",
       "   Yearly Amount Spent Churned  \n",
       "0           587.951054      No  \n",
       "1           392.204933     Yes  \n",
       "2           487.547505      No  \n",
       "3           581.852344      No  \n",
       "4           599.406092      No  "
      ]
     },
     "execution_count": 19,
     "metadata": {},
     "output_type": "execute_result"
    }
   ],
   "source": [
    "df.head()"
   ]
  },
  {
   "cell_type": "code",
   "execution_count": 20,
   "metadata": {},
   "outputs": [],
   "source": [
    "drop_list = ['Email','Address','Avatar','Time on App','Time on Website','Churned']"
   ]
  },
  {
   "cell_type": "code",
   "execution_count": 21,
   "metadata": {},
   "outputs": [],
   "source": [
    "X = df.drop(drop_list, axis=1)\n",
    "y = df.Churned.values"
   ]
  },
  {
   "cell_type": "code",
   "execution_count": 22,
   "metadata": {},
   "outputs": [],
   "source": [
    "# Train/Test Split\n",
    "from sklearn.model_selection import train_test_split\n",
    "X_train, X_test, y_train, y_test = train_test_split(X, y, test_size=0.2, random_state=42)"
   ]
  },
  {
   "cell_type": "code",
   "execution_count": 23,
   "metadata": {},
   "outputs": [
    {
     "data": {
      "text/html": [
       "<div>\n",
       "<style scoped>\n",
       "    .dataframe tbody tr th:only-of-type {\n",
       "        vertical-align: middle;\n",
       "    }\n",
       "\n",
       "    .dataframe tbody tr th {\n",
       "        vertical-align: top;\n",
       "    }\n",
       "\n",
       "    .dataframe thead th {\n",
       "        text-align: right;\n",
       "    }\n",
       "</style>\n",
       "<table border=\"1\" class=\"dataframe\">\n",
       "  <thead>\n",
       "    <tr style=\"text-align: right;\">\n",
       "      <th></th>\n",
       "      <th>Avg Session Length</th>\n",
       "      <th>Length of Membership</th>\n",
       "      <th>Yearly Amount Spent</th>\n",
       "    </tr>\n",
       "  </thead>\n",
       "  <tbody>\n",
       "    <tr>\n",
       "      <th>440</th>\n",
       "      <td>33.200616</td>\n",
       "      <td>3.549036</td>\n",
       "      <td>499.140152</td>\n",
       "    </tr>\n",
       "    <tr>\n",
       "      <th>490</th>\n",
       "      <td>34.695591</td>\n",
       "      <td>3.163092</td>\n",
       "      <td>510.401388</td>\n",
       "    </tr>\n",
       "    <tr>\n",
       "      <th>324</th>\n",
       "      <td>33.479472</td>\n",
       "      <td>4.205904</td>\n",
       "      <td>559.199048</td>\n",
       "    </tr>\n",
       "    <tr>\n",
       "      <th>55</th>\n",
       "      <td>33.925297</td>\n",
       "      <td>3.392050</td>\n",
       "      <td>483.673308</td>\n",
       "    </tr>\n",
       "    <tr>\n",
       "      <th>173</th>\n",
       "      <td>32.529769</td>\n",
       "      <td>0.801516</td>\n",
       "      <td>298.762008</td>\n",
       "    </tr>\n",
       "  </tbody>\n",
       "</table>\n",
       "</div>"
      ],
      "text/plain": [
       "     Avg Session Length  Length of Membership  Yearly Amount Spent\n",
       "440           33.200616              3.549036           499.140152\n",
       "490           34.695591              3.163092           510.401388\n",
       "324           33.479472              4.205904           559.199048\n",
       "55            33.925297              3.392050           483.673308\n",
       "173           32.529769              0.801516           298.762008"
      ]
     },
     "execution_count": 23,
     "metadata": {},
     "output_type": "execute_result"
    }
   ],
   "source": [
    "X.sample(5)"
   ]
  },
  {
   "cell_type": "code",
   "execution_count": 24,
   "metadata": {},
   "outputs": [
    {
     "name": "stdout",
     "output_type": "stream",
     "text": [
      "Feature space holds 400 observations and 3 features\n",
      "Unique target labels: ['No' 'Yes']\n"
     ]
    }
   ],
   "source": [
    "# Scale the data\n",
    "from sklearn.preprocessing import StandardScaler\n",
    "scaler = StandardScaler()\n",
    "\n",
    "X_train = pd.DataFrame(scaler.fit_transform(X_train.values), columns=X.columns)\n",
    "X_test = pd.DataFrame(scaler.transform(X_test.values), columns=X.columns)\n",
    "\n",
    "print(\"Feature space holds %d observations and %d features\" % X_train.shape)\n",
    "print(\"Unique target labels:\", np.unique(y_train))"
   ]
  },
  {
   "cell_type": "code",
   "execution_count": 25,
   "metadata": {
    "scrolled": true
   },
   "outputs": [],
   "source": [
    "from collections import Counter\n",
    "\n",
    "from sklearn.linear_model import LogisticRegression\n",
    "from sklearn.svm import SVC, LinearSVC\n",
    "from sklearn.ensemble import RandomForestClassifier, AdaBoostClassifier, GradientBoostingClassifier, ExtraTreesClassifier, VotingClassifier\n",
    "from sklearn.discriminant_analysis import LinearDiscriminantAnalysis\n",
    "from sklearn.neighbors import KNeighborsClassifier\n",
    "from sklearn.naive_bayes import GaussianNB\n",
    "from sklearn.tree import DecisionTreeClassifier\n",
    "from sklearn.neural_network import MLPClassifier\n",
    "from sklearn.model_selection import GridSearchCV, cross_val_score, StratifiedKFold, learning_curve\n",
    "from xgboost import  XGBClassifier"
   ]
  },
  {
   "cell_type": "code",
   "execution_count": 26,
   "metadata": {},
   "outputs": [],
   "source": [
    "# Cross validate model with Kfold stratified cross val\n",
    "kfold = StratifiedKFold(n_splits=5)"
   ]
  },
  {
   "cell_type": "code",
   "execution_count": 27,
   "metadata": {},
   "outputs": [
    {
     "data": {
      "image/png": "[encoded data removed]",
      "text/plain": [
       "<Figure size 432x288 with 1 Axes>"
      ]
     },
     "metadata": {
      "needs_background": "light"
     },
     "output_type": "display_data"
    }
   ],
   "source": [
    "# Test differents algorithms \n",
    "random_state = 42\n",
    "classifiers = []\n",
    "classifiers.append(SVC(random_state=random_state))\n",
    "classifiers.append(DecisionTreeClassifier(random_state=random_state))\n",
    "classifiers.append(AdaBoostClassifier(DecisionTreeClassifier(random_state=random_state),random_state=random_state,learning_rate=0.1))\n",
    "classifiers.append(RandomForestClassifier(random_state=random_state))\n",
    "classifiers.append(ExtraTreesClassifier(random_state=random_state))\n",
    "classifiers.append(GradientBoostingClassifier(random_state=random_state))\n",
    "classifiers.append(MLPClassifier(random_state=random_state))\n",
    "classifiers.append(KNeighborsClassifier())\n",
    "classifiers.append(LogisticRegression(random_state = random_state))\n",
    "classifiers.append(LinearDiscriminantAnalysis())\n",
    "classifiers.append(XGBClassifier(random_state=random_state))\n",
    "\n",
    "\n",
    "cv_results = []\n",
    "for classifier in classifiers :\n",
    "    cv_results.append(cross_val_score(classifier, X_train, y = y_train, scoring = \"roc_auc\", cv = kfold, n_jobs=-1))\n",
    "\n",
    "cv_means = []\n",
    "cv_std = []\n",
    "for cv_result in cv_results:\n",
    "    cv_means.append(cv_result.mean())\n",
    "    cv_std.append(cv_result.std())\n",
    "\n",
    "cv_res = pd.DataFrame({\"CrossValMeans\":cv_means,\"CrossValerrors\": cv_std,\"Algorithm\":[\"SVC\",\"DecisionTree\",\"AdaBoost\",\n",
    "\"RandomForest\",\"ExtraTrees\",\"GradientBoosting\",\"MultipleLayerPerceptron\",\"KNeighboors\",\"LogisticRegression\",\"LinearDiscriminantAnalysis\",\"XGBoost\"]})\n",
    "\n",
    "g = sns.barplot(\"CrossValMeans\",\"Algorithm\",data = cv_res, palette=\"Set3\",orient = \"h\",**{'xerr':cv_std})\n",
    "g.set_xlabel(\"Mean roc_auc\")\n",
    "g = g.set_title(\"Cross validation scores\")\n"
   ]
  },
  {
   "cell_type": "code",
   "execution_count": 28,
   "metadata": {},
   "outputs": [
    {
     "name": "stdout",
     "output_type": "stream",
     "text": [
      "Fitting 5 folds for each of 28 candidates, totalling 140 fits\n"
     ]
    },
    {
     "name": "stderr",
     "output_type": "stream",
     "text": [
      "[Parallel(n_jobs=-1)]: Using backend LokyBackend with 2 concurrent workers.\n",
      "[Parallel(n_jobs=-1)]: Done  88 tasks      | elapsed:    5.2s\n",
      "[Parallel(n_jobs=-1)]: Done 140 out of 140 | elapsed:   11.9s finished\n"
     ]
    },
    {
     "data": {
      "text/plain": [
       "GridSearchCV(cv=StratifiedKFold(n_splits=5, random_state=None, shuffle=False),\n",
       "             error_score=nan,\n",
       "             estimator=SVC(C=1.0, break_ties=False, cache_size=200,\n",
       "                           class_weight=None, coef0=0.0,\n",
       "                           decision_function_shape='ovr', degree=3,\n",
       "                           gamma='scale', kernel='rbf', max_iter=-1,\n",
       "                           probability=True, random_state=None, shrinking=True,\n",
       "                           tol=0.001, verbose=False),\n",
       "             iid='deprecated', n_jobs=-1,\n",
       "             param_grid={'C': [1, 10, 50, 100, 200, 300, 1000],\n",
       "                         'gamma': [0.001, 0.01, 0.1, 1], 'kernel': ['rbf']},\n",
       "             pre_dispatch='2*n_jobs', refit=True, return_train_score=False,\n",
       "             scoring='roc_auc', verbose=1)"
      ]
     },
     "execution_count": 28,
     "metadata": {},
     "output_type": "execute_result"
    }
   ],
   "source": [
    "### SVC classifier\n",
    "svm = SVC(probability=True)\n",
    "svm_param_grid = {'kernel': ['rbf'], \n",
    "                  'gamma': [ 0.001, 0.01, 0.1, 1],\n",
    "                  'C': [1, 10, 50, 100,200,300, 1000]}\n",
    "\n",
    "grid_svm = GridSearchCV(svm, param_grid = svm_param_grid, cv=kfold, scoring=\"roc_auc\", n_jobs=-1, verbose = 1)\n",
    "grid_svm.fit(X_train,y_train)"
   ]
  },
  {
   "cell_type": "code",
   "execution_count": 29,
   "metadata": {},
   "outputs": [
    {
     "name": "stdout",
     "output_type": "stream",
     "text": [
      "Best Score: 0.9713778260289889\n",
      "Best parameters set: \n",
      " {'C': 100, 'gamma': 0.01, 'kernel': 'rbf'}\n"
     ]
    }
   ],
   "source": [
    "svm_best = grid_svm.best_estimator_\n",
    "# Best score\n",
    "print('Best Score:', grid_svm.best_score_)\n",
    "print('Best parameters set: \\n', grid_svm.best_params_)"
   ]
  },
  {
   "cell_type": "code",
   "execution_count": 30,
   "metadata": {},
   "outputs": [],
   "source": [
    "y_pred_svm = svm_best.predict(X_test)\n",
    "y_prob_svm = svm_best.predict_proba(X_test)[:,1]"
   ]
  },
  {
   "cell_type": "code",
   "execution_count": 31,
   "metadata": {},
   "outputs": [
    {
     "name": "stdout",
     "output_type": "stream",
     "text": [
      "Fitting 5 folds for each of 150 candidates, totalling 750 fits\n"
     ]
    },
    {
     "name": "stderr",
     "output_type": "stream",
     "text": [
      "[Parallel(n_jobs=-1)]: Using backend LokyBackend with 2 concurrent workers.\n",
      "[Parallel(n_jobs=-1)]: Done  46 tasks      | elapsed:    5.9s\n",
      "[Parallel(n_jobs=-1)]: Done 196 tasks      | elapsed:   32.3s\n",
      "[Parallel(n_jobs=-1)]: Done 446 tasks      | elapsed:  1.1min\n",
      "[Parallel(n_jobs=-1)]: Done 747 out of 750 | elapsed:  1.5min remaining:    0.4s\n",
      "[Parallel(n_jobs=-1)]: Done 750 out of 750 | elapsed:  1.5min finished\n"
     ]
    },
    {
     "data": {
      "text/plain": [
       "GridSearchCV(cv=StratifiedKFold(n_splits=5, random_state=None, shuffle=False),\n",
       "             error_score=nan,\n",
       "             estimator=RandomForestClassifier(bootstrap=True, ccp_alpha=0.0,\n",
       "                                              class_weight=None,\n",
       "                                              criterion='entropy',\n",
       "                                              max_depth=None,\n",
       "                                              max_features='auto',\n",
       "                                              max_leaf_nodes=None,\n",
       "                                              max_samples=None,\n",
       "                                              min_impurity_decrease=0.0,\n",
       "                                              min_impurity_split=None,\n",
       "                                              min_samples_leaf=1,\n",
       "                                              min_samples_split=2,\n",
       "                                              min_weight_fraction_leaf=0.0,\n",
       "                                              n_estimators=20, n_jobs=None,\n",
       "                                              oob_score=False, random_state=42,\n",
       "                                              verbose=0, warm_start=False),\n",
       "             iid='deprecated', n_jobs=-1,\n",
       "             param_grid={'max_features': range(2, 7),\n",
       "                         'min_samples_leaf': range(1, 6),\n",
       "                         'min_samples_split': range(4, 10)},\n",
       "             pre_dispatch='2*n_jobs', refit=True, return_train_score=False,\n",
       "             scoring='roc_auc', verbose=1)"
      ]
     },
     "execution_count": 31,
     "metadata": {},
     "output_type": "execute_result"
    }
   ],
   "source": [
    "### SVC classifier\n",
    "rf = RandomForestClassifier(n_estimators=20, criterion=\"entropy\", random_state=42)\n",
    "svm_param_grid = {'kernel': ['rbf'], \n",
    "                  'gamma': [ 0.001, 0.01, 0.1, 1],\n",
    "                  'C': [1, 10, 50, 100,200,300, 1000]}\n",
    "rf_param_grid = {\n",
    "    \"max_features\": range(2,7),\n",
    "    \"min_samples_split\": range(4,10),\n",
    "    \"min_samples_leaf\": range(1,6),\n",
    "}\n",
    "\n",
    "grid_rf = GridSearchCV(rf, param_grid = rf_param_grid, cv=kfold, scoring=\"roc_auc\", n_jobs=-1, verbose = 1)\n",
    "grid_rf.fit(X_train,y_train)"
   ]
  },
  {
   "cell_type": "code",
   "execution_count": 32,
   "metadata": {},
   "outputs": [
    {
     "name": "stdout",
     "output_type": "stream",
     "text": [
      "Best Score: 0.9657749715889252\n",
      "Best parameters set: \n",
      " {'max_features': 3, 'min_samples_leaf': 4, 'min_samples_split': 9}\n"
     ]
    }
   ],
   "source": [
    "rf_best = grid_rf.best_estimator_\n",
    "# Best score\n",
    "print('Best Score:', grid_rf.best_score_)\n",
    "print('Best parameters set: \\n', grid_rf.best_params_)"
   ]
  },
  {
   "cell_type": "code",
   "execution_count": 33,
   "metadata": {},
   "outputs": [],
   "source": [
    "y_pred_rf = rf_best.predict(X_test)\n",
    "y_prob_rf = rf_best.predict_proba(X_test)[:,1]"
   ]
  },
  {
   "cell_type": "code",
   "execution_count": 34,
   "metadata": {},
   "outputs": [
    {
     "name": "stdout",
     "output_type": "stream",
     "text": [
      "Fitting 5 folds for each of 6 candidates, totalling 30 fits\n"
     ]
    },
    {
     "name": "stderr",
     "output_type": "stream",
     "text": [
      "[Parallel(n_jobs=-1)]: Using backend LokyBackend with 2 concurrent workers.\n",
      "[Parallel(n_jobs=-1)]: Done  30 out of  30 | elapsed:    0.6s finished\n"
     ]
    },
    {
     "data": {
      "text/plain": [
       "GridSearchCV(cv=StratifiedKFold(n_splits=5, random_state=None, shuffle=False),\n",
       "             error_score=nan,\n",
       "             estimator=KNeighborsClassifier(algorithm='auto', leaf_size=30,\n",
       "                                            metric='minkowski',\n",
       "                                            metric_params=None, n_jobs=None,\n",
       "                                            n_neighbors=5, p=2,\n",
       "                                            weights='uniform'),\n",
       "             iid='deprecated', n_jobs=-1,\n",
       "             param_grid={'n_neighbors': [4, 8, 16],\n",
       "                         'weights': ['uniform', 'distance']},\n",
       "             pre_dispatch='2*n_jobs', refit=True, return_train_score=False,\n",
       "             scoring='roc_auc', verbose=1)"
      ]
     },
     "execution_count": 34,
     "metadata": {},
     "output_type": "execute_result"
    }
   ],
   "source": [
    "### KNN classifier\n",
    "knn = KNeighborsClassifier()\n",
    "knn_param_grid = {\n",
    "    'n_neighbors':[4,8,16],\n",
    "    'weights': ['uniform','distance']\n",
    "}\n",
    "\n",
    "grid_knn = GridSearchCV(knn, param_grid = knn_param_grid, cv=kfold, scoring=\"roc_auc\", n_jobs=-1, verbose = 1)\n",
    "grid_knn.fit(X_train,y_train)"
   ]
  },
  {
   "cell_type": "code",
   "execution_count": 35,
   "metadata": {},
   "outputs": [
    {
     "name": "stdout",
     "output_type": "stream",
     "text": [
      "Best Score: 0.9597811077462242\n",
      "Best parameters set: \n",
      " {'n_neighbors': 8, 'weights': 'uniform'}\n"
     ]
    }
   ],
   "source": [
    "knn_best = grid_knn.best_estimator_\n",
    "# Best score\n",
    "print('Best Score:', grid_knn.best_score_)\n",
    "print('Best parameters set: \\n', grid_knn.best_params_)"
   ]
  },
  {
   "cell_type": "code",
   "execution_count": 36,
   "metadata": {},
   "outputs": [],
   "source": [
    "y_pred_knn = knn_best.predict(X_test)\n",
    "y_prob_knn = knn_best.predict_proba(X_test)[:,1]"
   ]
  },
  {
   "cell_type": "code",
   "execution_count": 37,
   "metadata": {},
   "outputs": [
    {
     "data": {
      "text/plain": [
       "GridSearchCV(cv=None, error_score=nan,\n",
       "             estimator=LogisticRegression(C=1.0, class_weight=None, dual=False,\n",
       "                                          fit_intercept=True,\n",
       "                                          intercept_scaling=1, l1_ratio=None,\n",
       "                                          max_iter=100, multi_class='auto',\n",
       "                                          n_jobs=None, penalty='l2',\n",
       "                                          random_state=None, solver='lbfgs',\n",
       "                                          tol=0.0001, verbose=0,\n",
       "                                          warm_start=False),\n",
       "             iid='deprecated', n_jobs=None,\n",
       "             param_grid={'C': array([0.001     , 0.0010715...\n",
       "       0.17782794, 0.19054607, 0.20417379, 0.21877616, 0.23442288,\n",
       "       0.25118864, 0.26915348, 0.28840315, 0.30902954, 0.33113112,\n",
       "       0.35481339, 0.3801894 , 0.40738028, 0.43651583, 0.46773514,\n",
       "       0.50118723, 0.5370318 , 0.57543994, 0.616595  , 0.66069345,\n",
       "       0.70794578, 0.75857758, 0.81283052, 0.87096359, 0.9332543 ,\n",
       "       1.        ]),\n",
       "                         'penalty': ['l1', 'l2']},\n",
       "             pre_dispatch='2*n_jobs', refit=True, return_train_score=False,\n",
       "             scoring='roc_auc', verbose=0)"
      ]
     },
     "execution_count": 37,
     "metadata": {},
     "output_type": "execute_result"
    }
   ],
   "source": [
    "### Logistic Regression classifier\n",
    "\n",
    "lr = LogisticRegression()\n",
    "C_grid = 0.001*10**(np.arange(0,1.01,0.01)*3)\n",
    "lr_param_grid  = {\n",
    "    'penalty': ['l1', 'l2'], \n",
    "    'C': C_grid\n",
    "}\n",
    "\n",
    "grid_lr = GridSearchCV(lr, lr_param_grid, scoring='roc_auc')\n",
    "grid_lr.fit(X_train, y_train)\n"
   ]
  },
  {
   "cell_type": "code",
   "execution_count": 38,
   "metadata": {},
   "outputs": [
    {
     "name": "stdout",
     "output_type": "stream",
     "text": [
      "Best Score: 0.9707509570881664\n",
      "Best parameters set: \n",
      " {'C': 0.5011872336272725, 'penalty': 'l2'}\n"
     ]
    }
   ],
   "source": [
    "lr_best = grid_lr.best_estimator_\n",
    "# Best score\n",
    "print('Best Score:', grid_lr.best_score_)\n",
    "print('Best parameters set: \\n', grid_lr.best_params_)"
   ]
  },
  {
   "cell_type": "code",
   "execution_count": 39,
   "metadata": {},
   "outputs": [],
   "source": [
    "y_pred_lr = lr_best.predict(X_test)\n",
    "y_prob_lr = lr_best.predict_proba(X_test)[:,1]"
   ]
  },
  {
   "cell_type": "code",
   "execution_count": 40,
   "metadata": {},
   "outputs": [
    {
     "name": "stdout",
     "output_type": "stream",
     "text": [
      "Logistic Regression (L2) Coefficients\n",
      "Yearly Amount Spent: -4.0757\n",
      "Length of Membership: -0.6636\n",
      "Avg Session Length: -0.6006\n"
     ]
    }
   ],
   "source": [
    "LRmodel_l2 = LogisticRegression(penalty=\"l2\")\n",
    "LRmodel_l2.fit(X_train, y_train)\n",
    "LRmodel_l2.coef_[0]\n",
    "print(\"Logistic Regression (L2) Coefficients\")\n",
    "for k,v in sorted(zip(map(lambda x: round(x, 4), LRmodel_l2.coef_[0]), \\\n",
    "                      X_train.columns), key=lambda kv:(-abs(kv[0]),kv[1\n",
    "])):\n",
    "    print(v + \": \" + str(k))"
   ]
  },
  {
   "cell_type": "code",
   "execution_count": 41,
   "metadata": {},
   "outputs": [
    {
     "name": "stdout",
     "output_type": "stream",
     "text": [
      "Logistic Regression (L2) RFE Result\n",
      "Yearly Amount Spent: 1\n",
      "Length of Membership: 2\n",
      "Avg Session Length: 3\n"
     ]
    }
   ],
   "source": [
    "from sklearn.feature_selection import RFE\n",
    "rfe_l2 = RFE(LRmodel_l2, n_features_to_select=1) # If None, half of the features are selected.\n",
    "rfe_l2.fit(X_train, y_train)\n",
    "print(\"Logistic Regression (L2) RFE Result\")\n",
    "for k,v in sorted(zip(map(lambda x: round(x, 4), rfe_l2.ranking_), X_train.columns)):\n",
    "    print(v + \": \" + str(k))"
   ]
  },
  {
   "cell_type": "code",
   "execution_count": null,
   "metadata": {},
   "outputs": [
    {
     "name": "stdout",
     "output_type": "stream",
     "text": [
      "Fitting 5 folds for each of 72 candidates, totalling 360 fits\n"
     ]
    },
    {
     "name": "stderr",
     "output_type": "stream",
     "text": [
      "[Parallel(n_jobs=4)]: Using backend LokyBackend with 4 concurrent workers.\n",
      "[Parallel(n_jobs=4)]: Done  42 tasks      | elapsed:   16.8s\n",
      "[Parallel(n_jobs=4)]: Done 192 tasks      | elapsed:  1.6min\n"
     ]
    }
   ],
   "source": [
    "# Gradient boosting tunning\n",
    "gb = GradientBoostingClassifier(random_state=random_state)\n",
    "gb_param_grid = {'loss' : [\"deviance\"],\n",
    "              'n_estimators' : [100,200,300],\n",
    "              'learning_rate': [0.1, 0.05, 0.01],\n",
    "              'max_depth': [4, 8],\n",
    "              'min_samples_leaf': [100,150],\n",
    "              'max_features': [0.3, 0.1] \n",
    "              }\n",
    "\n",
    "grid_gb = GridSearchCV(gb,param_grid = gb_param_grid, cv=kfold, scoring=\"roc_auc\", n_jobs= 4, verbose = 1)\n",
    "\n",
    "grid_gb.fit(X_train,y_train)\n"
   ]
  },
  {
   "cell_type": "code",
   "execution_count": null,
   "metadata": {},
   "outputs": [],
   "source": [
    "gb_best = grid_gb.best_estimator_\n",
    "# Best score\n",
    "print('Best Score:', grid_gb.best_score_)\n",
    "print('Best parameters set: \\n', grid_gb.best_params_)"
   ]
  },
  {
   "cell_type": "code",
   "execution_count": null,
   "metadata": {},
   "outputs": [],
   "source": [
    "y_pred_gb = gb_best.predict(X_test)\n",
    "y_prob_gb = gb_best.predict_proba(X_test)[:,1]"
   ]
  },
  {
   "cell_type": "code",
   "execution_count": null,
   "metadata": {},
   "outputs": [],
   "source": [
    "# XGboost tunning\n",
    "xgb = GradientBoostingClassifier(random_state=random_state)\n",
    "\n",
    "#xgb.get_params().keys()\n",
    "xgb_param_grid = {\n",
    "    'learning_rate': [0.025,0.05,0.1], \n",
    "    'max_depth': [3,4,5],\n",
    "    'subsample': [0.25,0.5,1.0]\n",
    "}\n",
    "grid_xgb = GridSearchCV(xgb, param_grid = xgb_param_grid, cv=kfold, scoring=\"roc_auc\", n_jobs= 4, verbose = 1)\n",
    "\n",
    "grid_xgb.fit(X_train,y_train)"
   ]
  },
  {
   "cell_type": "code",
   "execution_count": null,
   "metadata": {},
   "outputs": [],
   "source": [
    "xgb_best = grid_xgb.best_estimator_\n",
    "# Best score\n",
    "print('Best Score:', grid_xgb.best_score_)\n",
    "print('Best parameters set: \\n', grid_xgb.best_params_)"
   ]
  },
  {
   "cell_type": "code",
   "execution_count": null,
   "metadata": {},
   "outputs": [],
   "source": [
    "y_pred_xgb = xgb_best.predict(X_test)\n",
    "y_prob_xgb = xgb_best.predict_proba(X_test)[:,1]"
   ]
  },
  {
   "cell_type": "code",
   "execution_count": null,
   "metadata": {},
   "outputs": [],
   "source": [
    "# print a summary of the scores\n",
    "def print_grid_search_metrics(gs):\n",
    "    print(\"Best score: %0.3f\" % gs.best_score_)\n",
    "    print(\"Best parameters set:\")\n",
    "    best_parameters = gs.best_params_\n",
    "    for param_name in sorted(parameters.keys()):\n",
    "        print(\"\\t%s: %r\" % (param_name, best_parameters[param_name]))"
   ]
  },
  {
   "cell_type": "code",
   "execution_count": null,
   "metadata": {},
   "outputs": [],
   "source": [
    "# Plot learning curves\n",
    "#grid_svm, grid_rf, grid_gb, grid_knn, grid_lr, grid_xgb\n",
    "\n",
    "def plot_learning_curve(estimator, title, X, y, ylim=None, cv=None,\n",
    "                        n_jobs=-1, train_sizes=np.linspace(.1, 1.0, 5)):\n",
    "    \"\"\"Generate a simple plot of the test and training learning curve\"\"\"\n",
    "    plt.figure()\n",
    "    plt.title(title)\n",
    "    if ylim is not None:\n",
    "        plt.ylim(*ylim)\n",
    "    plt.xlabel(\"Training examples\")\n",
    "    plt.ylabel(\"Score\")\n",
    "    train_sizes, train_scores, test_scores = learning_curve(\n",
    "        estimator, X, y, cv=cv, n_jobs=n_jobs, train_sizes=train_sizes)\n",
    "    train_scores_mean = np.mean(train_scores, axis=1)\n",
    "    train_scores_std = np.std(train_scores, axis=1)\n",
    "    test_scores_mean = np.mean(test_scores, axis=1)\n",
    "    test_scores_std = np.std(test_scores, axis=1)\n",
    "    plt.grid()\n",
    "\n",
    "    plt.fill_between(train_sizes, train_scores_mean - train_scores_std,\n",
    "                     train_scores_mean + train_scores_std, alpha=0.1,\n",
    "                     color=\"r\")\n",
    "    plt.fill_between(train_sizes, test_scores_mean - test_scores_std,\n",
    "                     test_scores_mean + test_scores_std, alpha=0.1, color=\"g\")\n",
    "    plt.plot(train_sizes, train_scores_mean, 'o-', color=\"r\",\n",
    "             label=\"Training score\")\n",
    "    plt.plot(train_sizes, test_scores_mean, 'o-', color=\"g\",\n",
    "             label=\"Cross-validation score\")\n",
    "\n",
    "    plt.legend(loc=\"best\")\n",
    "    return plt\n",
    "\n",
    "g = plot_learning_curve(grid_svm.best_estimator_,\"SVM learning curves\",X_train,y_train,cv=kfold)\n",
    "g = plot_learning_curve(grid_rf.best_estimator_,\"Random Forest learning curves\",X_train,y_train,cv=kfold)\n",
    "g = plot_learning_curve(grid_gb.best_estimator_,\"Gradient Boosting learning curves\",X_train,y_train,cv=kfold)\n",
    "g = plot_learning_curve(grid_knn.best_estimator_,\"KNN learning curves\",X_train,y_train,cv=kfold)\n",
    "g = plot_learning_curve(grid_lr.best_estimator_,\"Logistic Regression learning curves\",X_train,y_train,cv=kfold)\n",
    "g = plot_learning_curve(grid_xgb.best_estimator_,\"XGBoost learning curves\",X_train,y_train,cv=kfold)"
   ]
  },
  {
   "cell_type": "code",
   "execution_count": null,
   "metadata": {},
   "outputs": [],
   "source": [
    "from sklearn.metrics import confusion_matrix, roc_curve, roc_auc_score, accuracy_score, precision_score, recall_score\n",
    "\n",
    "def cal_evaluation(classifier, cm, auc):\n",
    "    tn = cm[0][0]\n",
    "    fp = cm[0][1]\n",
    "    fn = cm[1][0]\n",
    "    tp = cm[1][1]\n",
    "    accuracy  = (tp + tn) / (tp + fp + fn + tn + 0.0)\n",
    "    precision = tp / (tp + fp + 0.0)\n",
    "    recall = tp / (tp + fn + 0.0)\n",
    "    f1 = 2 * precision * recall / (precision + recall)\n",
    "    print(classifier)\n",
    "    print(\"Accuracy is \" + str(accuracy))\n",
    "    print(\"Precision is \" + str(precision))\n",
    "    print(\"Recall is \" + str(recall))\n",
    "    print(\"F1 score is \" + str(f1))\n",
    "    print(\"ROC AUC is \" + str(auc))\n",
    "\n",
    "def draw_confusion_matrices(confusion_matricies):\n",
    "    class_names = ['Not','Churn']\n",
    "    for x in confusion_matrices:\n",
    "        classifier, cm, auc = x[0], x[1], x[2]\n",
    "        cal_evaluation(classifier, cm, auc)\n",
    "        fig = plt.figure()\n",
    "        ax = fig.add_subplot(111)\n",
    "        cax = ax.matshow(cm, interpolation='nearest',cmap=plt.get_cmap('Reds'))\n",
    "        plt.title('Confusion matrix for {}'.format(classifier))\n",
    "        fig.colorbar(cax)\n",
    "        ax.set_xticklabels([''] + class_names)\n",
    "        ax.set_yticklabels([''] + class_names)\n",
    "        plt.xlabel('Predicted')\n",
    "        plt.ylabel('True')\n",
    "        plt.show()"
   ]
  },
  {
   "cell_type": "code",
   "execution_count": null,
   "metadata": {},
   "outputs": [],
   "source": [
    "%matplotlib inline\n",
    "\n",
    "y = np.array(y)\n",
    "class_names = np.unique(y)\n",
    "print(class_names)\n",
    "\n",
    "confusion_matrices = [\n",
    "    (\"Gradient Boosting\", confusion_matrix(y_test, y_pred_gb), roc_auc_score(y_test, y_prob_gb)),\n",
    "    (\"Logisitic Regression\", confusion_matrix(y_test, y_pred_lr), roc_auc_score(y_test, y_prob_lr)),\n",
    "    (\"K-Nearest-Neighbors\", confusion_matrix(y_test, y_pred_knn), roc_auc_score(y_test, y_prob_knn)),\n",
    "    (\"Random Forest\", confusion_matrix(y_test, y_pred_rf), roc_auc_score(y_test, y_prob_rf)),\n",
    "    (\"Support Vector Machine\", confusion_matrix(y_test, y_pred_svm), roc_auc_score(y_test, y_prob_svm)),\n",
    "    (\"XGBoost Classifier\", confusion_matrix(y_test, y_pred_xgb), roc_auc_score(y_test, y_prob_xgb))\n",
    "    \n",
    "]\n",
    "\n",
    "draw_confusion_matrices(confusion_matrices)"
   ]
  },
  {
   "cell_type": "code",
   "execution_count": null,
   "metadata": {},
   "outputs": [],
   "source": [
    "#nrows = ncols = 2\n",
    "nrows = 3\n",
    "ncols = 1\n",
    "fig, axes = plt.subplots(nrows = nrows, ncols = ncols, sharex=\"all\", figsize=(5,15))\n",
    "\n",
    "names_classifiers = [(\"XGBoost\", xgb_best),(\"RandomForest\",rf_best),(\"GradientBoosting\",gb_best),(\"GradientBoosting\",gb_best)]\n",
    "\n",
    "nclassifier = 0\n",
    "for row in range(nrows):\n",
    "    name = names_classifiers[nclassifier][0]\n",
    "    classifier = names_classifiers[nclassifier][1]\n",
    "    indices = np.argsort(classifier.feature_importances_)[::-1][:40]\n",
    "    g = sns.barplot(y=X_train.columns[indices][:40],x = classifier.feature_importances_[indices][:40] , orient='h',ax=axes[row])\n",
    "    g.set_xlabel(\"Relative importance\",fontsize=12)\n",
    "    g.set_ylabel(\"Features\",fontsize=12)\n",
    "    g.tick_params(labelsize=9)\n",
    "    g.set_title(name + \" feature importance\")\n",
    "    nclassifier += 1"
   ]
  },
  {
   "cell_type": "code",
   "execution_count": null,
   "metadata": {
    "scrolled": false
   },
   "outputs": [],
   "source": [
    "# Concatenate all classifier results\n",
    "\n",
    "test_rf = pd.Series(rf_best.predict(X_test), name=\"Random Forest\")\n",
    "test_lr = pd.Series(lr_best.predict(X_test), name=\"Logistic Regression\")\n",
    "test_gb = pd.Series(gb_best.predict(X_test), name=\"Gradient Boosting\")\n",
    "test_knn = pd.Series(knn_best.predict(X_test), name=\"KNN\")\n",
    "test_svm = pd.Series(svm_best.predict(X_test), name=\"SVM\")\n",
    "test_xgb = pd.Series(xgb_best.predict(X_test), name=\"XGBoost\")\n",
    "\n",
    "frames=[test_rf, test_lr,test_gb,test_knn, test_svm, test_xgb]\n",
    "#A_filter = pd.Series([frames])\n",
    "ensemble_results = pd.concat(frames,axis=1)\n"
   ]
  },
  {
   "cell_type": "code",
   "execution_count": null,
   "metadata": {},
   "outputs": [],
   "source": [
    "ensemble_results\n"
   ]
  },
  {
   "cell_type": "code",
   "execution_count": null,
   "metadata": {},
   "outputs": [],
   "source": [
    "#plt.figure(figsize=(15,10)) \n",
    "#g = sns.heatmap(ensemble_results.corr(),)\n",
    "#plt.show()\n",
    "\n",
    "plt.figure(figsize=(12,10))\n",
    "corr = ensemble_results.apply(lambda x: pd.factorize(x)[0]).corr()\n",
    "ax = sns.heatmap(corr, annot = True)"
   ]
  },
  {
   "cell_type": "code",
   "execution_count": null,
   "metadata": {},
   "outputs": [],
   "source": [
    "votingC = VotingClassifier(estimators=[('rf', rf_best), ('lr',lr_best),('knn', knn_best),\n",
    "('svm', svm_best), ('gb',gb_best),('xgb',xgb_best)], voting='soft', n_jobs=4)\n",
    "votingC = votingC.fit(X_train, y_train)"
   ]
  },
  {
   "cell_type": "code",
   "execution_count": null,
   "metadata": {},
   "outputs": [],
   "source": [
    "y_pred_voting = votingC.predict(X_test)\n",
    "y_prob_voting = votingC.predict_proba(X_test)[:,1]"
   ]
  },
  {
   "cell_type": "code",
   "execution_count": null,
   "metadata": {},
   "outputs": [],
   "source": [
    "confusion_matrices = [\n",
    "    (\"Ensemble modeling\", confusion_matrix(y_test, y_pred_voting), roc_auc_score(y_test, y_prob_voting))   \n",
    "]\n",
    "draw_confusion_matrices(confusion_matrices)"
   ]
  },
  {
   "cell_type": "code",
   "execution_count": null,
   "metadata": {},
   "outputs": [],
   "source": [
    "confusion_matrices = [\n",
    "    (\"XGboost\", confusion_matrix(y_test, y_pred_xgb), roc_auc_score(y_test, y_prob_xgb))\n",
    "]\n",
    "\n",
    "draw_confusion_matrices(confusion_matrices)"
   ]
  }
 ],
 "metadata": {
  "kernelspec": {
   "display_name": "Python 3",
   "language": "python",
   "name": "python3"
  },
  "language_info": {
   "codemirror_mode": {
    "name": "ipython",
    "version": 3
   },
   "file_extension": ".py",
   "mimetype": "text/x-python",
   "name": "python",
   "nbconvert_exporter": "python",
   "pygments_lexer": "ipython3",
   "version": "3.6.9"
  }
 },
 "nbformat": 4,
 "nbformat_minor": 2
}
