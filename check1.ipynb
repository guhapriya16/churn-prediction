{
 "cells": [
  {
   "cell_type": "code",
   "execution_count": 1,
   "metadata": {},
   "outputs": [],
   "source": [
    "import findspark"
   ]
  },
  {
   "cell_type": "code",
   "execution_count": 2,
   "metadata": {},
   "outputs": [],
   "source": [
    "findspark.init('/home/guha/spark-2.4.4-bin-hadoop2.7')"
   ]
  },
  {
   "cell_type": "code",
   "execution_count": 3,
   "metadata": {},
   "outputs": [],
   "source": [
    "from pyspark.sql import SparkSession"
   ]
  },
  {
   "cell_type": "code",
   "execution_count": 4,
   "metadata": {},
   "outputs": [],
   "source": [
    "spark = SparkSession.builder.appName('drg').getOrCreate()"
   ]
  },
  {
   "cell_type": "code",
   "execution_count": 5,
   "metadata": {},
   "outputs": [],
   "source": [
    "data = spark.read.csv('Ecommerce_Customers.csv',inferSchema=True,header=True)"
   ]
  },
  {
   "cell_type": "code",
   "execution_count": 6,
   "metadata": {},
   "outputs": [
    {
     "name": "stdout",
     "output_type": "stream",
     "text": [
      "root\n",
      " |-- Email: string (nullable = true)\n",
      " |-- Address: string (nullable = true)\n",
      " |-- Avatar: string (nullable = true)\n",
      " |-- Avg Session Length: double (nullable = true)\n",
      " |-- Time on App: double (nullable = true)\n",
      " |-- Time on Website: double (nullable = true)\n",
      " |-- Length of Membership: double (nullable = true)\n",
      " |-- Yearly Amount Spent: double (nullable = true)\n",
      " |-- _c8: string (nullable = true)\n",
      " |-- Private: string (nullable = true)\n",
      "\n"
     ]
    }
   ],
   "source": [
    "data.printSchema()"
   ]
  },
  {
   "cell_type": "code",
   "execution_count": 7,
   "metadata": {},
   "outputs": [
    {
     "name": "stdout",
     "output_type": "stream",
     "text": [
      "+--------------------+--------------------+----------------+------------------+-----------+---------------+--------------------+-------------------+----+-------+\n",
      "|               Email|             Address|          Avatar|Avg Session Length|Time on App|Time on Website|Length of Membership|Yearly Amount Spent| _c8|Private|\n",
      "+--------------------+--------------------+----------------+------------------+-----------+---------------+--------------------+-------------------+----+-------+\n",
      "|mstephenson@ferna...|835 Frank TunnelW...|          Violet|       34.49726773|12.65565115|    39.57766802|         4.082620633|         587.951054|null|     No|\n",
      "|   hduke@hotmail.com|4547 Archer Commo...|       DarkGreen|       31.92627203|11.10946073|    37.26895887|         2.664034182|        392.2049334|null|    Yes|\n",
      "|    pallen@yahoo.com|24645 Valerie Uni...|          Bisque|       33.00091476|11.33027806|    37.11059744|         4.104543202|        487.5475049|null|     No|\n",
      "|riverarebecca@gma...|1414 David Throug...|     SaddleBrown|       34.30555663|13.71751367|    36.72128268|         3.120178783|         581.852344|null|     No|\n",
      "|mstephens@davidso...|14023 Rodriguez P...|MediumAquaMarine|       33.33067252|12.79518855|     37.5366533|         4.446308318|         599.406092|null|     No|\n",
      "|alvareznancy@luca...|645 Martha Park A...|     FloralWhite|       33.87103788|12.02692534|    34.47687763|         5.493507201|        637.1024479|null|     No|\n",
      "|katherine20@yahoo...|68388 Reyes Light...|   DarkSlateBlue|        32.0215955|11.36634831|    36.68377615|         4.685017247|        521.5721748|null|     No|\n",
      "|  awatkins@yahoo.com|Unit 6538 Box 898...|            Aqua|       32.73914294|12.35195897|    37.37335886|         4.434273435|        549.9041461|null|     No|\n",
      "|vchurch@walter-ma...|860 Lee KeyWest D...|          Salmon|        33.9877729|13.38623528|    37.53449734|         3.273433578|         570.200409|null|     No|\n",
      "|    bonnie69@lin.biz|PSC 2734, Box 525...|           Brown|       31.93654862|11.81412829|    37.14516822|         3.202806072|        427.1993849|null|    Yes|\n",
      "|andrew06@peterson...|26104 Alexander G...|          Tomato|       33.99257277|13.33897545|    37.22580613|         2.482607771|        492.6060127|null|     No|\n",
      "|ryanwerner@freema...|Unit 2413 Box 034...|          Tomato|       33.87936082|  11.584783|    37.08792607|         3.713209203|        522.3374046|null|     No|\n",
      "|   knelson@gmail.com|6705 Miller Orcha...|       RoyalBlue|       29.53242897| 10.9612984|    37.42021558|         4.046423164|        408.6403511|null|    Yes|\n",
      "|wrightpeter@yahoo...|05302 Dunlap Ferr...|          Bisque|       33.19033404|12.95922609|     36.1446667|         3.918541839|        573.4158673|null|     No|\n",
      "|taylormason@gmail...|7773 Powell Sprin...|        DarkBlue|       32.38797585|13.14872569|    36.61995708|         2.494543647|        470.4527333|null|     No|\n",
      "| jstark@anderson.com|49558 Ramirez Roa...|            Peru|       30.73772037|12.63660605|    36.21376309|         3.357846842|        461.7807422|null|    Yes|\n",
      "| wjennings@gmail.com|6362 Wilson Mount...|      PowderBlue|        32.1253869|11.73386169|    34.89409275|         3.136132716|        457.8476959|null|    Yes|\n",
      "|rebecca45@hale-ba...|8982 Burton RowWi...|       OliveDrab|       32.33889932|12.01319469|    38.38513659|         2.420806161|        407.7045475|null|    Yes|\n",
      "|alejandro75@hotma...|64475 Andre Club ...|            Cyan|       32.18781205|14.71538754|    38.24411459|         1.516575581|        452.3156755|null|    Yes|\n",
      "|samuel46@love-wes...|544 Alexander Hei...|   LightSeaGreen|       32.61785606|13.98959256|     37.1905038|          4.06454855|        605.0610388|null|     No|\n",
      "+--------------------+--------------------+----------------+------------------+-----------+---------------+--------------------+-------------------+----+-------+\n",
      "only showing top 20 rows\n",
      "\n"
     ]
    }
   ],
   "source": [
    "data.show()"
   ]
  },
  {
   "cell_type": "code",
   "execution_count": 8,
   "metadata": {},
   "outputs": [],
   "source": [
    "from pyspark.ml.feature import VectorAssembler"
   ]
  },
  {
   "cell_type": "code",
   "execution_count": 9,
   "metadata": {},
   "outputs": [
    {
     "data": {
      "text/plain": [
       "['Email',\n",
       " 'Address',\n",
       " 'Avatar',\n",
       " 'Avg Session Length',\n",
       " 'Time on App',\n",
       " 'Time on Website',\n",
       " 'Length of Membership',\n",
       " 'Yearly Amount Spent',\n",
       " '_c8',\n",
       " 'Private']"
      ]
     },
     "execution_count": 9,
     "metadata": {},
     "output_type": "execute_result"
    }
   ],
   "source": [
    "data.columns"
   ]
  },
  {
   "cell_type": "code",
   "execution_count": 10,
   "metadata": {},
   "outputs": [],
   "source": [
    "assembler = VectorAssembler(\n",
    "    inputCols=[\"Avg Session Length\", \"Time on App\", \n",
    "               \"Time on Website\",'Length of Membership'],\n",
    "    outputCol=\"features\")"
   ]
  },
  {
   "cell_type": "code",
   "execution_count": 11,
   "metadata": {},
   "outputs": [],
   "source": [
    "output = assembler.transform(data)"
   ]
  },
  {
   "cell_type": "code",
   "execution_count": 12,
   "metadata": {},
   "outputs": [],
   "source": [
    "from pyspark.ml.feature import StringIndexer"
   ]
  },
  {
   "cell_type": "code",
   "execution_count": 13,
   "metadata": {},
   "outputs": [],
   "source": [
    "indexer = StringIndexer(inputCol='Private',outputCol='PrivateIndex')"
   ]
  },
  {
   "cell_type": "code",
   "execution_count": 14,
   "metadata": {},
   "outputs": [],
   "source": [
    "output_fixed = indexer.fit(output).transform(output)"
   ]
  },
  {
   "cell_type": "code",
   "execution_count": 15,
   "metadata": {},
   "outputs": [
    {
     "name": "stdout",
     "output_type": "stream",
     "text": [
      "root\n",
      " |-- Email: string (nullable = true)\n",
      " |-- Address: string (nullable = true)\n",
      " |-- Avatar: string (nullable = true)\n",
      " |-- Avg Session Length: double (nullable = true)\n",
      " |-- Time on App: double (nullable = true)\n",
      " |-- Time on Website: double (nullable = true)\n",
      " |-- Length of Membership: double (nullable = true)\n",
      " |-- Yearly Amount Spent: double (nullable = true)\n",
      " |-- _c8: string (nullable = true)\n",
      " |-- Private: string (nullable = true)\n",
      " |-- features: vector (nullable = true)\n",
      " |-- PrivateIndex: double (nullable = false)\n",
      "\n"
     ]
    }
   ],
   "source": [
    "output_fixed.printSchema()"
   ]
  },
  {
   "cell_type": "code",
   "execution_count": 16,
   "metadata": {},
   "outputs": [],
   "source": [
    "final_data = output_fixed.select('features','PrivateIndex')"
   ]
  },
  {
   "cell_type": "code",
   "execution_count": 17,
   "metadata": {},
   "outputs": [],
   "source": [
    "train_data,test_data = final_data.randomSplit([0.7,0.3])"
   ]
  },
  {
   "cell_type": "code",
   "execution_count": 18,
   "metadata": {},
   "outputs": [],
   "source": [
    "from pyspark.ml.classification import (DecisionTreeClassifier,GBTClassifier,RandomForestClassifier)"
   ]
  },
  {
   "cell_type": "code",
   "execution_count": 19,
   "metadata": {},
   "outputs": [],
   "source": [
    "from pyspark.ml import Pipeline"
   ]
  },
  {
   "cell_type": "code",
   "execution_count": 20,
   "metadata": {},
   "outputs": [],
   "source": [
    "dtc = DecisionTreeClassifier(labelCol='PrivateIndex',featuresCol='features')\n",
    "rfc= RandomForestClassifier(labelCol='PrivateIndex',featuresCol='features')\n",
    "gbt = GBTClassifier(labelCol='PrivateIndex',featuresCol='features')"
   ]
  },
  {
   "cell_type": "code",
   "execution_count": 21,
   "metadata": {},
   "outputs": [],
   "source": [
    "dtc_model = dtc.fit(train_data)\n",
    "rfc_model = rfc.fit(train_data)\n",
    "gbt_model = gbt.fit(train_data)"
   ]
  },
  {
   "cell_type": "code",
   "execution_count": 22,
   "metadata": {},
   "outputs": [],
   "source": [
    "dtc_preds = dtc_model.transform(test_data)\n",
    "rfc_preds = rfc_model.transform(test_data)\n",
    "gbt_preds = gbt_model.transform(test_data)"
   ]
  },
  {
   "cell_type": "code",
   "execution_count": 23,
   "metadata": {},
   "outputs": [
    {
     "name": "stdout",
     "output_type": "stream",
     "text": [
      "+--------------------+------------+-------------+--------------------+----------+\n",
      "|            features|PrivateIndex|rawPrediction|         probability|prediction|\n",
      "+--------------------+------------+-------------+--------------------+----------+\n",
      "|[30.39318454,11.8...|         1.0|   [7.0,95.0]|[0.06862745098039...|       1.0|\n",
      "|[30.83643267,13.1...|         1.0|    [0.0,8.0]|           [0.0,1.0]|       1.0|\n",
      "|[30.97167564,11.7...|         1.0|    [3.0,0.0]|           [1.0,0.0]|       0.0|\n",
      "|[31.06621816,11.7...|         1.0|    [0.0,9.0]|           [0.0,1.0]|       1.0|\n",
      "|[31.26810421,12.1...|         1.0|    [0.0,8.0]|           [0.0,1.0]|       1.0|\n",
      "|[31.28344748,12.7...|         0.0|    [3.0,0.0]|           [1.0,0.0]|       0.0|\n",
      "|[31.3123496,11.68...|         1.0|    [0.0,9.0]|           [0.0,1.0]|       1.0|\n",
      "|[31.57020083,13.3...|         0.0|    [1.0,1.0]|           [0.5,0.5]|       0.0|\n",
      "|[31.57613197,12.5...|         0.0|    [3.0,0.0]|           [1.0,0.0]|       0.0|\n",
      "|[31.6005122,12.22...|         1.0|    [0.0,8.0]|           [0.0,1.0]|       1.0|\n",
      "|[31.65480968,13.0...|         1.0|    [0.0,8.0]|           [0.0,1.0]|       1.0|\n",
      "|[31.72420252,13.1...|         0.0|    [0.0,8.0]|           [0.0,1.0]|       1.0|\n",
      "|[31.80930032,11.6...|         0.0|  [121.0,5.0]|[0.96031746031746...|       0.0|\n",
      "|[31.82797906,12.4...|         1.0|    [0.0,8.0]|           [0.0,1.0]|       1.0|\n",
      "|[31.86483255,13.4...|         1.0|   [3.0,25.0]|[0.10714285714285...|       1.0|\n",
      "|[31.90485713,12.2...|         1.0|  [121.0,5.0]|[0.96031746031746...|       0.0|\n",
      "|[31.94539575,12.9...|         0.0|  [121.0,5.0]|[0.96031746031746...|       0.0|\n",
      "|[31.94801742,13.0...|         1.0|   [3.0,25.0]|[0.10714285714285...|       1.0|\n",
      "|[32.01230077,12.1...|         0.0|  [121.0,5.0]|[0.96031746031746...|       0.0|\n",
      "|[32.01807401,10.0...|         1.0|   [7.0,95.0]|[0.06862745098039...|       1.0|\n",
      "+--------------------+------------+-------------+--------------------+----------+\n",
      "only showing top 20 rows\n",
      "\n"
     ]
    }
   ],
   "source": [
    "dtc_preds.show()"
   ]
  },
  {
   "cell_type": "code",
   "execution_count": 24,
   "metadata": {},
   "outputs": [
    {
     "name": "stdout",
     "output_type": "stream",
     "text": [
      "+--------------------+------------+--------------------+--------------------+----------+\n",
      "|            features|PrivateIndex|       rawPrediction|         probability|prediction|\n",
      "+--------------------+------------+--------------------+--------------------+----------+\n",
      "|[30.39318454,11.8...|         1.0|[0.59990595028591...|[0.02999529751429...|       1.0|\n",
      "|[30.83643267,13.1...|         1.0|[3.33016533016533...|[0.16650826650826...|       1.0|\n",
      "|[30.97167564,11.7...|         1.0|[6.84713866690610...|[0.34235693334530...|       1.0|\n",
      "|[31.06621816,11.7...|         1.0|[3.16099148075892...|[0.15804957403794...|       1.0|\n",
      "|[31.26810421,12.1...|         1.0|[1.44862204712887...|[0.07243110235644...|       1.0|\n",
      "|[31.28344748,12.7...|         0.0|[13.9140350877192...|[0.69570175438596...|       0.0|\n",
      "|[31.3123496,11.68...|         1.0|[1.76987970481380...|[0.08849398524069...|       1.0|\n",
      "|[31.57020083,13.3...|         0.0|[12.0841623135740...|[0.60420811567870...|       0.0|\n",
      "|[31.57613197,12.5...|         0.0|[12.5576045478592...|[0.62788022739296...|       0.0|\n",
      "|[31.6005122,12.22...|         1.0|[1.85364055682839...|[0.09268202784141...|       1.0|\n",
      "|[31.65480968,13.0...|         1.0|[8.06666666666666...|[0.40333333333333...|       1.0|\n",
      "|[31.72420252,13.1...|         0.0|[6.33016533016533...|[0.31650826650826...|       1.0|\n",
      "|[31.80930032,11.6...|         0.0|[17.6828250736679...|[0.88414125368339...|       0.0|\n",
      "|[31.82797906,12.4...|         1.0|[2.07457893662149...|[0.10372894683107...|       1.0|\n",
      "|[31.86483255,13.4...|         1.0|[3.32357446475093...|[0.16617872323754...|       1.0|\n",
      "|[31.90485713,12.2...|         1.0|[12.6112517125281...|[0.63056258562640...|       0.0|\n",
      "|[31.94539575,12.9...|         0.0|[19.7667674878429...|[0.98833837439214...|       0.0|\n",
      "|[31.94801742,13.0...|         1.0|[9.03809523809523...|[0.45190476190476...|       1.0|\n",
      "|[32.01230077,12.1...|         0.0|[14.1569227081991...|[0.70784613540995...|       0.0|\n",
      "|[32.01807401,10.0...|         1.0|[0.51412593689720...|[0.02570629684486...|       1.0|\n",
      "+--------------------+------------+--------------------+--------------------+----------+\n",
      "only showing top 20 rows\n",
      "\n"
     ]
    }
   ],
   "source": [
    "rfc_preds.show()"
   ]
  },
  {
   "cell_type": "code",
   "execution_count": 25,
   "metadata": {},
   "outputs": [
    {
     "name": "stdout",
     "output_type": "stream",
     "text": [
      "+--------------------+------------+--------------------+--------------------+----------+\n",
      "|            features|PrivateIndex|       rawPrediction|         probability|prediction|\n",
      "+--------------------+------------+--------------------+--------------------+----------+\n",
      "|[30.39318454,11.8...|         1.0|[-1.5375150800900...|[0.04414906778345...|       1.0|\n",
      "|[30.83643267,13.1...|         1.0|[-1.9259033288093...|[0.02079951663574...|       1.0|\n",
      "|[30.97167564,11.7...|         1.0|[0.58777718868175...|[0.76414752768915...|       0.0|\n",
      "|[31.06621816,11.7...|         1.0|[-1.4163648811446...|[0.05558093412695...|       1.0|\n",
      "|[31.26810421,12.1...|         1.0|[-1.9342719114487...|[0.02046135264292...|       1.0|\n",
      "|[31.28344748,12.7...|         0.0|[1.54856838391803...|[0.95677448491356...|       0.0|\n",
      "|[31.3123496,11.68...|         1.0|[-1.3397325499117...|[0.06419600297720...|       1.0|\n",
      "|[31.57020083,13.3...|         0.0|[0.52650332238968...|[0.74135183941010...|       0.0|\n",
      "|[31.57613197,12.5...|         0.0|[1.25280699731686...|[0.92453444594262...|       0.0|\n",
      "|[31.6005122,12.22...|         1.0|[-1.7273146335924...|[0.03063110419583...|       1.0|\n",
      "|[31.65480968,13.0...|         1.0|[-1.3344210759057...|[0.06483713738111...|       1.0|\n",
      "|[31.72420252,13.1...|         0.0|[-1.7060587986293...|[0.03191889866095...|       1.0|\n",
      "|[31.80930032,11.6...|         0.0|[0.67845093174366...|[0.79525570795301...|       0.0|\n",
      "|[31.82797906,12.4...|         1.0|[-1.6430431126883...|[0.03605161026162...|       1.0|\n",
      "|[31.86483255,13.4...|         1.0|[-1.2438561923410...|[0.07672408948054...|       1.0|\n",
      "|[31.90485713,12.2...|         1.0|[1.10455465005482...|[0.90106455175826...|       0.0|\n",
      "|[31.94539575,12.9...|         0.0|[1.57144272723573...|[0.95862747181696...|       0.0|\n",
      "|[31.94801742,13.0...|         1.0|[-0.3170426286541...|[0.34658479610209...|       1.0|\n",
      "|[32.01230077,12.1...|         0.0|[1.37979965392971...|[0.94045319883089...|       0.0|\n",
      "|[32.01807401,10.0...|         1.0|[-1.4429070770924...|[0.05285929178178...|       1.0|\n",
      "+--------------------+------------+--------------------+--------------------+----------+\n",
      "only showing top 20 rows\n",
      "\n"
     ]
    }
   ],
   "source": [
    "gbt_preds.show()"
   ]
  },
  {
   "cell_type": "code",
   "execution_count": 26,
   "metadata": {},
   "outputs": [],
   "source": [
    "from pyspark.ml.evaluation import BinaryClassificationEvaluator"
   ]
  },
  {
   "cell_type": "code",
   "execution_count": 27,
   "metadata": {},
   "outputs": [],
   "source": [
    "my_bin_eval = BinaryClassificationEvaluator(labelCol='PrivateIndex')"
   ]
  },
  {
   "cell_type": "code",
   "execution_count": 28,
   "metadata": {},
   "outputs": [
    {
     "name": "stdout",
     "output_type": "stream",
     "text": [
      "DTC\n",
      "0.8635294117647058\n"
     ]
    }
   ],
   "source": [
    "print('DTC')\n",
    "print(my_bin_eval.evaluate(dtc_preds))"
   ]
  },
  {
   "cell_type": "code",
   "execution_count": 29,
   "metadata": {},
   "outputs": [
    {
     "name": "stdout",
     "output_type": "stream",
     "text": [
      "Test Error = 0.136471\n"
     ]
    }
   ],
   "source": [
    "print(\"Test Error = %g\" % (1.0 - my_bin_eval.evaluate(dtc_preds) ))"
   ]
  },
  {
   "cell_type": "code",
   "execution_count": 30,
   "metadata": {},
   "outputs": [
    {
     "name": "stdout",
     "output_type": "stream",
     "text": [
      "rfC\n",
      "0.9427450980392158\n"
     ]
    }
   ],
   "source": [
    "print('rfC')\n",
    "print(my_bin_eval.evaluate(rfc_preds))"
   ]
  },
  {
   "cell_type": "code",
   "execution_count": 31,
   "metadata": {},
   "outputs": [
    {
     "name": "stdout",
     "output_type": "stream",
     "text": [
      "Test Error = 0.0572549\n"
     ]
    }
   ],
   "source": [
    "print(\"Test Error = %g\" % (1.0 - my_bin_eval.evaluate(rfc_preds) ))"
   ]
  },
  {
   "cell_type": "code",
   "execution_count": 32,
   "metadata": {},
   "outputs": [
    {
     "name": "stdout",
     "output_type": "stream",
     "text": [
      "GBT\n",
      "0.9304901960784313\n"
     ]
    }
   ],
   "source": [
    "print('GBT')\n",
    "print(my_bin_eval.evaluate(gbt_preds))"
   ]
  },
  {
   "cell_type": "code",
   "execution_count": 33,
   "metadata": {},
   "outputs": [
    {
     "name": "stdout",
     "output_type": "stream",
     "text": [
      "Test Error = 0.0695098\n"
     ]
    }
   ],
   "source": [
    "print(\"Test Error = %g\" % (1.0 - my_bin_eval.evaluate(gbt_preds) ))"
   ]
  },
  {
   "cell_type": "code",
   "execution_count": 34,
   "metadata": {},
   "outputs": [],
   "source": [
    "my_bin_eval2 = BinaryClassificationEvaluator(labelCol='PrivateIndex',rawPredictionCol='prediction')"
   ]
  },
  {
   "cell_type": "code",
   "execution_count": 35,
   "metadata": {},
   "outputs": [
    {
     "name": "stdout",
     "output_type": "stream",
     "text": [
      "DTC\n",
      "0.8411764705882352\n"
     ]
    }
   ],
   "source": [
    "print('DTC')\n",
    "print(my_bin_eval2.evaluate(dtc_preds))"
   ]
  },
  {
   "cell_type": "code",
   "execution_count": 36,
   "metadata": {},
   "outputs": [
    {
     "name": "stdout",
     "output_type": "stream",
     "text": [
      "Test Error = 0.158824\n"
     ]
    }
   ],
   "source": [
    "print(\"Test Error = %g\" % (1.0 - my_bin_eval2.evaluate(dtc_preds) ))"
   ]
  },
  {
   "cell_type": "code",
   "execution_count": 37,
   "metadata": {},
   "outputs": [
    {
     "name": "stdout",
     "output_type": "stream",
     "text": [
      "RFC\n",
      "0.8696078431372549\n"
     ]
    }
   ],
   "source": [
    "print('RFC')\n",
    "print(my_bin_eval2.evaluate(rfc_preds))"
   ]
  },
  {
   "cell_type": "code",
   "execution_count": 38,
   "metadata": {},
   "outputs": [
    {
     "name": "stdout",
     "output_type": "stream",
     "text": [
      "Test Error = 0.130392\n"
     ]
    }
   ],
   "source": [
    "print(\"Test Error = %g\" % (1.0 - my_bin_eval2.evaluate(rfc_preds) ))"
   ]
  },
  {
   "cell_type": "code",
   "execution_count": 39,
   "metadata": {},
   "outputs": [
    {
     "name": "stdout",
     "output_type": "stream",
     "text": [
      "GBT\n",
      "0.8637254901960785\n"
     ]
    }
   ],
   "source": [
    "print('GBT')\n",
    "print(my_bin_eval2.evaluate(gbt_preds))"
   ]
  },
  {
   "cell_type": "code",
   "execution_count": 40,
   "metadata": {},
   "outputs": [
    {
     "name": "stdout",
     "output_type": "stream",
     "text": [
      "Test Error = 0.136275\n"
     ]
    }
   ],
   "source": [
    "print(\"Test Error = %g\" % (1.0 - my_bin_eval2.evaluate(gbt_preds) ))"
   ]
  },
  {
   "cell_type": "code",
   "execution_count": 41,
   "metadata": {},
   "outputs": [],
   "source": [
    "from pyspark.ml.evaluation import MulticlassClassificationEvaluator"
   ]
  },
  {
   "cell_type": "code",
   "execution_count": 42,
   "metadata": {},
   "outputs": [],
   "source": [
    "acc_eval = MulticlassClassificationEvaluator(labelCol='PrivateIndex',metricName='accuracy')"
   ]
  },
  {
   "cell_type": "code",
   "execution_count": 43,
   "metadata": {},
   "outputs": [],
   "source": [
    "dtc_acc = acc_eval.evaluate(dtc_preds)\n",
    "rfc_acc = acc_eval.evaluate(rfc_preds)\n",
    "gbt_acc = acc_eval.evaluate(gbt_preds)"
   ]
  },
  {
   "cell_type": "code",
   "execution_count": 44,
   "metadata": {},
   "outputs": [
    {
     "data": {
      "text/plain": [
       "0.8482758620689655"
      ]
     },
     "execution_count": 44,
     "metadata": {},
     "output_type": "execute_result"
    }
   ],
   "source": [
    "dtc_acc"
   ]
  },
  {
   "cell_type": "code",
   "execution_count": 45,
   "metadata": {},
   "outputs": [
    {
     "data": {
      "text/plain": [
       "0.8758620689655172"
      ]
     },
     "execution_count": 45,
     "metadata": {},
     "output_type": "execute_result"
    }
   ],
   "source": [
    "rfc_acc"
   ]
  },
  {
   "cell_type": "code",
   "execution_count": 46,
   "metadata": {},
   "outputs": [
    {
     "data": {
      "text/plain": [
       "0.8689655172413793"
      ]
     },
     "execution_count": 46,
     "metadata": {},
     "output_type": "execute_result"
    }
   ],
   "source": [
    "gbt_acc"
   ]
  },
  {
   "cell_type": "code",
   "execution_count": 47,
   "metadata": {},
   "outputs": [
    {
     "name": "stdout",
     "output_type": "stream",
     "text": [
      "error rate: 0.15172413793103445\n"
     ]
    }
   ],
   "source": [
    "print(\"error rate:\",1-dtc_acc)"
   ]
  },
  {
   "cell_type": "code",
   "execution_count": 48,
   "metadata": {},
   "outputs": [
    {
     "name": "stdout",
     "output_type": "stream",
     "text": [
      "error rate: 0.12413793103448278\n"
     ]
    }
   ],
   "source": [
    "print(\"error rate:\",1-rfc_acc)"
   ]
  },
  {
   "cell_type": "code",
   "execution_count": 49,
   "metadata": {},
   "outputs": [
    {
     "name": "stdout",
     "output_type": "stream",
     "text": [
      "error rate: 0.13103448275862073\n"
     ]
    }
   ],
   "source": [
    "print(\"error rate:\",1-gbt_acc)"
   ]
  },
  {
   "cell_type": "code",
   "execution_count": 50,
   "metadata": {},
   "outputs": [],
   "source": [
    "from pyspark.ml.classification import LogisticRegression"
   ]
  },
  {
   "cell_type": "code",
   "execution_count": 61,
   "metadata": {},
   "outputs": [],
   "source": [
    "lr_churn = LogisticRegression(labelCol='PrivateIndex')"
   ]
  },
  {
   "cell_type": "code",
   "execution_count": 62,
   "metadata": {},
   "outputs": [],
   "source": [
    "fitted_churn_model = lr_churn.fit(train_data)"
   ]
  },
  {
   "cell_type": "code",
   "execution_count": 63,
   "metadata": {},
   "outputs": [],
   "source": [
    "training_sum = fitted_churn_model.summary"
   ]
  },
  {
   "cell_type": "code",
   "execution_count": 64,
   "metadata": {},
   "outputs": [
    {
     "name": "stdout",
     "output_type": "stream",
     "text": [
      "+-------+-------------------+-------------------+\n",
      "|summary|       PrivateIndex|         prediction|\n",
      "+-------+-------------------+-------------------+\n",
      "|  count|                355|                355|\n",
      "|   mean|0.48169014084507045|0.48169014084507045|\n",
      "| stddev| 0.5003698798992924|  0.500369879899292|\n",
      "|    min|                0.0|                0.0|\n",
      "|    max|                1.0|                1.0|\n",
      "+-------+-------------------+-------------------+\n",
      "\n"
     ]
    }
   ],
   "source": [
    "training_sum.predictions.describe().show()"
   ]
  },
  {
   "cell_type": "code",
   "execution_count": 74,
   "metadata": {},
   "outputs": [],
   "source": [
    "pred_and_labels = fitted_churn_model.evaluate(test_data)"
   ]
  },
  {
   "cell_type": "code",
   "execution_count": 75,
   "metadata": {},
   "outputs": [
    {
     "name": "stdout",
     "output_type": "stream",
     "text": [
      "+--------------------+------------+--------------------+--------------------+----------+\n",
      "|            features|PrivateIndex|       rawPrediction|         probability|prediction|\n",
      "+--------------------+------------+--------------------+--------------------+----------+\n",
      "|[30.39318454,11.8...|         1.0|[-11.498428753218...|[1.01459200460736...|       1.0|\n",
      "|[30.83643267,13.1...|         1.0|[-2.4785060739502...|[0.07737878816185...|       1.0|\n",
      "|[30.97167564,11.7...|         1.0|[-1.1092673861925...|[0.24800749564712...|       1.0|\n",
      "|[31.06621816,11.7...|         1.0|[-2.6466956942616...|[0.06619296089362...|       1.0|\n",
      "|[31.26810421,12.1...|         1.0|[-5.1905252228963...|[0.00553823814075...|       1.0|\n",
      "|[31.28344748,12.7...|         0.0|[4.16891105545649...|[0.98476655172961...|       0.0|\n",
      "|[31.3123496,11.68...|         1.0|[-3.1421734088255...|[0.04140077773704...|       1.0|\n",
      "|[31.57020083,13.3...|         0.0|[3.85977135756776...|[0.97936208196001...|       0.0|\n",
      "|[31.57613197,12.5...|         0.0|[2.84565178192380...|[0.94509348215536...|       0.0|\n",
      "|[31.6005122,12.22...|         1.0|[-2.5353326580766...|[0.07341805113620...|       1.0|\n",
      "|[31.65480968,13.0...|         1.0|[-1.9068242482941...|[0.12933805188646...|       1.0|\n",
      "|[31.72420252,13.1...|         0.0|[0.37240044742252...|[0.59203888356620...|       0.0|\n",
      "|[31.80930032,11.6...|         0.0|[3.16697966945980...|[0.95957257926004...|       0.0|\n",
      "|[31.82797906,12.4...|         1.0|[-3.1114176288285...|[0.04263873811623...|       1.0|\n",
      "|[31.86483255,13.4...|         1.0|[-3.3354519248454...|[0.03437480347108...|       1.0|\n",
      "|[31.90485713,12.2...|         1.0|[-0.4192948923187...|[0.39668548851574...|       1.0|\n",
      "|[31.94539575,12.9...|         0.0|[10.7081014262212...|[0.99997763747047...|       0.0|\n",
      "|[31.94801742,13.0...|         1.0|[-2.6521330660109...|[0.06585766076828...|       1.0|\n",
      "|[32.01230077,12.1...|         0.0|[-0.3103526152404...|[0.42302867182186...|       1.0|\n",
      "|[32.01807401,10.0...|         1.0|[-9.6345425920385...|[6.54248750707000...|       1.0|\n",
      "+--------------------+------------+--------------------+--------------------+----------+\n",
      "only showing top 20 rows\n",
      "\n"
     ]
    }
   ],
   "source": [
    "pred_and_labels.predictions.show()"
   ]
  },
  {
   "cell_type": "code",
   "execution_count": 85,
   "metadata": {},
   "outputs": [],
   "source": [
    "eva1 = BinaryClassificationEvaluator(rawPredictionCol='prediction', labelCol='PrivateIndex')"
   ]
  },
  {
   "cell_type": "code",
   "execution_count": 86,
   "metadata": {},
   "outputs": [
    {
     "data": {
      "text/plain": [
       "0.8838235294117648"
      ]
     },
     "execution_count": 86,
     "metadata": {},
     "output_type": "execute_result"
    }
   ],
   "source": [
    "eva1.evaluate(pred_and_labels.predictions)"
   ]
  },
  {
   "cell_type": "code",
   "execution_count": 93,
   "metadata": {},
   "outputs": [],
   "source": [
    "eva2 = MulticlassClassificationEvaluator(predictionCol='prediction', labelCol='PrivateIndex',\n",
    "                                             metricName='accuracy')"
   ]
  },
  {
   "cell_type": "code",
   "execution_count": 94,
   "metadata": {},
   "outputs": [
    {
     "data": {
      "text/plain": [
       "0.8896551724137931"
      ]
     },
     "execution_count": 94,
     "metadata": {},
     "output_type": "execute_result"
    }
   ],
   "source": [
    "eva2.evaluate(pred_and_labels.predictions)"
   ]
  },
  {
   "cell_type": "code",
   "execution_count": null,
   "metadata": {},
   "outputs": [],
   "source": []
  }
 ],
 "metadata": {
  "kernelspec": {
   "display_name": "Python 3",
   "language": "python",
   "name": "python3"
  },
  "language_info": {
   "codemirror_mode": {
    "name": "ipython",
    "version": 3
   },
   "file_extension": ".py",
   "mimetype": "text/x-python",
   "name": "python",
   "nbconvert_exporter": "python",
   "pygments_lexer": "ipython3",
   "version": "3.6.9"
  }
 },
 "nbformat": 4,
 "nbformat_minor": 2
}
