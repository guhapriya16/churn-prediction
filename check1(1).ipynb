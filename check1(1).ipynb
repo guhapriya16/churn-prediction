{
 "cells": [
  {
   "cell_type": "code",
   "execution_count": 1,
   "metadata": {},
   "outputs": [],
   "source": [
    "import findspark"
   ]
  },
  {
   "cell_type": "code",
   "execution_count": 2,
   "metadata": {},
   "outputs": [],
   "source": [
    "findspark.init('/home/guha/spark-2.4.4-bin-hadoop2.7')"
   ]
  },
  {
   "cell_type": "code",
   "execution_count": 3,
   "metadata": {},
   "outputs": [],
   "source": [
    "from pyspark.sql import SparkSession"
   ]
  },
  {
   "cell_type": "code",
   "execution_count": 4,
   "metadata": {},
   "outputs": [],
   "source": [
    "spark = SparkSession.builder.appName('drg').getOrCreate()"
   ]
  },
  {
   "cell_type": "code",
   "execution_count": 5,
   "metadata": {},
   "outputs": [],
   "source": [
    "data = spark.read.csv('Ecommerce_Customers.csv',inferSchema=True,header=True)"
   ]
  },
  {
   "cell_type": "code",
   "execution_count": 6,
   "metadata": {},
   "outputs": [
    {
     "name": "stdout",
     "output_type": "stream",
     "text": [
      "root\n",
      " |-- Email: string (nullable = true)\n",
      " |-- Address: string (nullable = true)\n",
      " |-- Avatar: string (nullable = true)\n",
      " |-- Avg Session Length: double (nullable = true)\n",
      " |-- Time on App: double (nullable = true)\n",
      " |-- Time on Website: double (nullable = true)\n",
      " |-- Length of Membership: double (nullable = true)\n",
      " |-- Yearly Amount Spent: double (nullable = true)\n",
      " |-- _c8: string (nullable = true)\n",
      " |-- Private: string (nullable = true)\n",
      "\n"
     ]
    }
   ],
   "source": [
    "data.printSchema()"
   ]
  },
  {
   "cell_type": "code",
   "execution_count": 7,
   "metadata": {},
   "outputs": [
    {
     "name": "stdout",
     "output_type": "stream",
     "text": [
      "+--------------------+--------------------+----------------+------------------+-----------+---------------+--------------------+-------------------+----+-------+\n",
      "|               Email|             Address|          Avatar|Avg Session Length|Time on App|Time on Website|Length of Membership|Yearly Amount Spent| _c8|Private|\n",
      "+--------------------+--------------------+----------------+------------------+-----------+---------------+--------------------+-------------------+----+-------+\n",
      "|mstephenson@ferna...|835 Frank TunnelW...|          Violet|       34.49726773|12.65565115|    39.57766802|         4.082620633|         587.951054|null|     No|\n",
      "|   hduke@hotmail.com|4547 Archer Commo...|       DarkGreen|       31.92627203|11.10946073|    37.26895887|         2.664034182|        392.2049334|null|    Yes|\n",
      "|    pallen@yahoo.com|24645 Valerie Uni...|          Bisque|       33.00091476|11.33027806|    37.11059744|         4.104543202|        487.5475049|null|     No|\n",
      "|riverarebecca@gma...|1414 David Throug...|     SaddleBrown|       34.30555663|13.71751367|    36.72128268|         3.120178783|         581.852344|null|     No|\n",
      "|mstephens@davidso...|14023 Rodriguez P...|MediumAquaMarine|       33.33067252|12.79518855|     37.5366533|         4.446308318|         599.406092|null|     No|\n",
      "|alvareznancy@luca...|645 Martha Park A...|     FloralWhite|       33.87103788|12.02692534|    34.47687763|         5.493507201|        637.1024479|null|     No|\n",
      "|katherine20@yahoo...|68388 Reyes Light...|   DarkSlateBlue|        32.0215955|11.36634831|    36.68377615|         4.685017247|        521.5721748|null|     No|\n",
      "|  awatkins@yahoo.com|Unit 6538 Box 898...|            Aqua|       32.73914294|12.35195897|    37.37335886|         4.434273435|        549.9041461|null|     No|\n",
      "|vchurch@walter-ma...|860 Lee KeyWest D...|          Salmon|        33.9877729|13.38623528|    37.53449734|         3.273433578|         570.200409|null|     No|\n",
      "|    bonnie69@lin.biz|PSC 2734, Box 525...|           Brown|       31.93654862|11.81412829|    37.14516822|         3.202806072|        427.1993849|null|    Yes|\n",
      "|andrew06@peterson...|26104 Alexander G...|          Tomato|       33.99257277|13.33897545|    37.22580613|         2.482607771|        492.6060127|null|     No|\n",
      "|ryanwerner@freema...|Unit 2413 Box 034...|          Tomato|       33.87936082|  11.584783|    37.08792607|         3.713209203|        522.3374046|null|     No|\n",
      "|   knelson@gmail.com|6705 Miller Orcha...|       RoyalBlue|       29.53242897| 10.9612984|    37.42021558|         4.046423164|        408.6403511|null|    Yes|\n",
      "|wrightpeter@yahoo...|05302 Dunlap Ferr...|          Bisque|       33.19033404|12.95922609|     36.1446667|         3.918541839|        573.4158673|null|     No|\n",
      "|taylormason@gmail...|7773 Powell Sprin...|        DarkBlue|       32.38797585|13.14872569|    36.61995708|         2.494543647|        470.4527333|null|     No|\n",
      "| jstark@anderson.com|49558 Ramirez Roa...|            Peru|       30.73772037|12.63660605|    36.21376309|         3.357846842|        461.7807422|null|    Yes|\n",
      "| wjennings@gmail.com|6362 Wilson Mount...|      PowderBlue|        32.1253869|11.73386169|    34.89409275|         3.136132716|        457.8476959|null|    Yes|\n",
      "|rebecca45@hale-ba...|8982 Burton RowWi...|       OliveDrab|       32.33889932|12.01319469|    38.38513659|         2.420806161|        407.7045475|null|    Yes|\n",
      "|alejandro75@hotma...|64475 Andre Club ...|            Cyan|       32.18781205|14.71538754|    38.24411459|         1.516575581|        452.3156755|null|    Yes|\n",
      "|samuel46@love-wes...|544 Alexander Hei...|   LightSeaGreen|       32.61785606|13.98959256|     37.1905038|          4.06454855|        605.0610388|null|     No|\n",
      "+--------------------+--------------------+----------------+------------------+-----------+---------------+--------------------+-------------------+----+-------+\n",
      "only showing top 20 rows\n",
      "\n"
     ]
    }
   ],
   "source": [
    "data.show()"
   ]
  },
  {
   "cell_type": "code",
   "execution_count": 8,
   "metadata": {},
   "outputs": [],
   "source": [
    "from pyspark.ml.feature import VectorAssembler"
   ]
  },
  {
   "cell_type": "code",
   "execution_count": 9,
   "metadata": {},
   "outputs": [
    {
     "data": {
      "text/plain": [
       "['Email',\n",
       " 'Address',\n",
       " 'Avatar',\n",
       " 'Avg Session Length',\n",
       " 'Time on App',\n",
       " 'Time on Website',\n",
       " 'Length of Membership',\n",
       " 'Yearly Amount Spent',\n",
       " '_c8',\n",
       " 'Private']"
      ]
     },
     "execution_count": 9,
     "metadata": {},
     "output_type": "execute_result"
    }
   ],
   "source": [
    "data.columns"
   ]
  },
  {
   "cell_type": "code",
   "execution_count": 10,
   "metadata": {},
   "outputs": [],
   "source": [
    "assembler = VectorAssembler(\n",
    "    inputCols=[\"Avg Session Length\", \"Time on App\", \n",
    "               \"Time on Website\",'Length of Membership'],\n",
    "    outputCol=\"features\")"
   ]
  },
  {
   "cell_type": "code",
   "execution_count": 11,
   "metadata": {},
   "outputs": [],
   "source": [
    "output = assembler.transform(data)"
   ]
  },
  {
   "cell_type": "code",
   "execution_count": 12,
   "metadata": {},
   "outputs": [],
   "source": [
    "from pyspark.ml.feature import StringIndexer"
   ]
  },
  {
   "cell_type": "code",
   "execution_count": 13,
   "metadata": {},
   "outputs": [],
   "source": [
    "indexer = StringIndexer(inputCol='Private',outputCol='PrivateIndex')"
   ]
  },
  {
   "cell_type": "code",
   "execution_count": 14,
   "metadata": {},
   "outputs": [],
   "source": [
    "output_fixed = indexer.fit(output).transform(output)"
   ]
  },
  {
   "cell_type": "code",
   "execution_count": 15,
   "metadata": {},
   "outputs": [
    {
     "name": "stdout",
     "output_type": "stream",
     "text": [
      "root\n",
      " |-- Email: string (nullable = true)\n",
      " |-- Address: string (nullable = true)\n",
      " |-- Avatar: string (nullable = true)\n",
      " |-- Avg Session Length: double (nullable = true)\n",
      " |-- Time on App: double (nullable = true)\n",
      " |-- Time on Website: double (nullable = true)\n",
      " |-- Length of Membership: double (nullable = true)\n",
      " |-- Yearly Amount Spent: double (nullable = true)\n",
      " |-- _c8: string (nullable = true)\n",
      " |-- Private: string (nullable = true)\n",
      " |-- features: vector (nullable = true)\n",
      " |-- PrivateIndex: double (nullable = false)\n",
      "\n"
     ]
    }
   ],
   "source": [
    "output_fixed.printSchema()"
   ]
  },
  {
   "cell_type": "code",
   "execution_count": 16,
   "metadata": {},
   "outputs": [],
   "source": [
    "final_data = output_fixed.select('features','PrivateIndex')"
   ]
  },
  {
   "cell_type": "code",
   "execution_count": 17,
   "metadata": {},
   "outputs": [],
   "source": [
    "train_data,test_data = final_data.randomSplit([0.7,0.3])"
   ]
  },
  {
   "cell_type": "code",
   "execution_count": 18,
   "metadata": {},
   "outputs": [],
   "source": [
    "from pyspark.ml.classification import (DecisionTreeClassifier,GBTClassifier,RandomForestClassifier)"
   ]
  },
  {
   "cell_type": "code",
   "execution_count": 19,
   "metadata": {},
   "outputs": [],
   "source": [
    "from pyspark.ml import Pipeline"
   ]
  },
  {
   "cell_type": "code",
   "execution_count": 20,
   "metadata": {},
   "outputs": [],
   "source": [
    "dtc = DecisionTreeClassifier(labelCol='PrivateIndex',featuresCol='features')\n",
    "rfc= RandomForestClassifier(labelCol='PrivateIndex',featuresCol='features')\n",
    "gbt = GBTClassifier(labelCol='PrivateIndex',featuresCol='features')"
   ]
  },
  {
   "cell_type": "code",
   "execution_count": 21,
   "metadata": {},
   "outputs": [],
   "source": [
    "dtc_model = dtc.fit(train_data)\n",
    "rfc_model = rfc.fit(train_data)\n",
    "gbt_model = gbt.fit(train_data)"
   ]
  },
  {
   "cell_type": "code",
   "execution_count": 22,
   "metadata": {},
   "outputs": [],
   "source": [
    "dtc_preds = dtc_model.transform(test_data)\n",
    "rfc_preds = rfc_model.transform(test_data)\n",
    "gbt_preds = gbt_model.transform(test_data)"
   ]
  },
  {
   "cell_type": "code",
   "execution_count": 23,
   "metadata": {},
   "outputs": [
    {
     "name": "stdout",
     "output_type": "stream",
     "text": [
      "+--------------------+------------+-------------+--------------------+----------+\n",
      "|            features|PrivateIndex|rawPrediction|         probability|prediction|\n",
      "+--------------------+------------+-------------+--------------------+----------+\n",
      "|[30.57436368,11.3...|         1.0|    [0.0,5.0]|           [0.0,1.0]|       1.0|\n",
      "|[30.73772037,12.6...|         1.0|    [0.0,9.0]|           [0.0,1.0]|       1.0|\n",
      "|[31.06132516,12.3...|         1.0|    [0.0,5.0]|           [0.0,1.0]|       1.0|\n",
      "|[31.06621816,11.7...|         1.0|    [0.0,5.0]|           [0.0,1.0]|       1.0|\n",
      "|[31.26064687,13.2...|         1.0|   [1.0,20.0]|[0.04761904761904...|       1.0|\n",
      "|[31.38958548,10.9...|         1.0|   [0.0,19.0]|           [0.0,1.0]|       1.0|\n",
      "|[31.44744649,10.1...|         1.0|    [0.0,3.0]|           [0.0,1.0]|       1.0|\n",
      "|[31.5171218,10.74...|         1.0|   [1.0,57.0]|[0.01724137931034...|       1.0|\n",
      "|[31.52575242,11.3...|         1.0|    [0.0,5.0]|           [0.0,1.0]|       1.0|\n",
      "|[31.53160448,13.3...|         1.0|   [1.0,20.0]|[0.04761904761904...|       1.0|\n",
      "|[31.57613197,12.5...|         0.0|    [0.0,5.0]|           [0.0,1.0]|       1.0|\n",
      "|[31.62536013,13.1...|         1.0|   [1.0,20.0]|[0.04761904761904...|       1.0|\n",
      "|[31.66104982,11.3...|         1.0|   [0.0,19.0]|           [0.0,1.0]|       1.0|\n",
      "|[31.72420252,13.1...|         0.0|    [0.0,9.0]|           [0.0,1.0]|       1.0|\n",
      "|[31.82797906,12.4...|         1.0|    [0.0,9.0]|           [0.0,1.0]|       1.0|\n",
      "|[31.8530748,12.14...|         1.0|   [0.0,19.0]|           [0.0,1.0]|       1.0|\n",
      "|[31.86274111,14.0...|         0.0|  [119.0,5.0]|[0.95967741935483...|       0.0|\n",
      "|[31.87455169,10.2...|         1.0|   [0.0,19.0]|           [0.0,1.0]|       1.0|\n",
      "|[31.90485713,12.2...|         1.0|  [119.0,5.0]|[0.95967741935483...|       0.0|\n",
      "|[31.94801742,13.0...|         1.0|    [0.0,9.0]|           [0.0,1.0]|       1.0|\n",
      "+--------------------+------------+-------------+--------------------+----------+\n",
      "only showing top 20 rows\n",
      "\n"
     ]
    }
   ],
   "source": [
    "dtc_preds.show()"
   ]
  },
  {
   "cell_type": "code",
   "execution_count": 24,
   "metadata": {},
   "outputs": [
    {
     "name": "stdout",
     "output_type": "stream",
     "text": [
      "+--------------------+------------+--------------------+--------------------+----------+\n",
      "|            features|PrivateIndex|       rawPrediction|         probability|prediction|\n",
      "+--------------------+------------+--------------------+--------------------+----------+\n",
      "|[30.57436368,11.3...|         1.0|[5.25571152652272...|[0.26278557632613...|       1.0|\n",
      "|[30.73772037,12.6...|         1.0|[3.65978595587864...|[0.18298929779393...|       1.0|\n",
      "|[31.06132516,12.3...|         1.0|[5.02530216979758...|[0.25126510848987...|       1.0|\n",
      "|[31.06621816,11.7...|         1.0|[5.18904485985606...|[0.25945224299280...|       1.0|\n",
      "|[31.26064687,13.2...|         1.0|[1.47692307692307...|[0.07384615384615...|       1.0|\n",
      "|[31.38958548,10.9...|         1.0|[1.59545817369293...|[0.07977290868464...|       1.0|\n",
      "|[31.44744649,10.1...|         1.0|[8.01719019462921...|[0.40085950973146...|       1.0|\n",
      "|[31.5171218,10.74...|         1.0|[0.91500837685255...|[0.04575041884262...|       1.0|\n",
      "|[31.52575242,11.3...|         1.0|[4.35777415426019...|[0.21788870771300...|       1.0|\n",
      "|[31.53160448,13.3...|         1.0|[1.4,18.599999999...|         [0.07,0.93]|       1.0|\n",
      "|[31.57613197,12.5...|         0.0|[14.8014081495866...|[0.74007040747933...|       0.0|\n",
      "|[31.62536013,13.1...|         1.0|[0.67692307692307...|[0.03384615384615...|       1.0|\n",
      "|[31.66104982,11.3...|         1.0|[0.91816675685489...|[0.04590833784274...|       1.0|\n",
      "|[31.72420252,13.1...|         0.0|[4.76024617952328...|[0.23801230897616...|       1.0|\n",
      "|[31.82797906,12.4...|         1.0|[2.67954393737104...|[0.13397719686855...|       1.0|\n",
      "|[31.8530748,12.14...|         1.0|[2.52742740850440...|[0.12637137042522...|       1.0|\n",
      "|[31.86274111,14.0...|         0.0|[14.7571795331648...|[0.73785897665824...|       0.0|\n",
      "|[31.87455169,10.2...|         1.0|[1.24101904556959...|[0.06205095227847...|       1.0|\n",
      "|[31.90485713,12.2...|         1.0|[7.24854732826798...|[0.36242736641339...|       1.0|\n",
      "|[31.94801742,13.0...|         1.0|[7.19653679653679...|[0.35982683982683...|       1.0|\n",
      "+--------------------+------------+--------------------+--------------------+----------+\n",
      "only showing top 20 rows\n",
      "\n"
     ]
    }
   ],
   "source": [
    "rfc_preds.show()"
   ]
  },
  {
   "cell_type": "code",
   "execution_count": 25,
   "metadata": {},
   "outputs": [
    {
     "name": "stdout",
     "output_type": "stream",
     "text": [
      "+--------------------+------------+--------------------+--------------------+----------+\n",
      "|            features|PrivateIndex|       rawPrediction|         probability|prediction|\n",
      "+--------------------+------------+--------------------+--------------------+----------+\n",
      "|[30.57436368,11.3...|         1.0|[-1.3596551768314...|[0.06184346666392...|       1.0|\n",
      "|[30.73772037,12.6...|         1.0|[-1.5486530851644...|[0.04321850963778...|       1.0|\n",
      "|[31.06132516,12.3...|         1.0|[-1.3986146881011...|[0.05747407894401...|       1.0|\n",
      "|[31.06621816,11.7...|         1.0|[-1.3986146881011...|[0.05747407894401...|       1.0|\n",
      "|[31.26064687,13.2...|         1.0|[-1.4596167804789...|[0.05121092813321...|       1.0|\n",
      "|[31.38958548,10.9...|         1.0|[-1.3895779861859...|[0.05846099630538...|       1.0|\n",
      "|[31.44744649,10.1...|         1.0|[-1.7648191335937...|[0.02848059493131...|       1.0|\n",
      "|[31.5171218,10.74...|         1.0|[-1.4078323486835...|[0.05648353172334...|       1.0|\n",
      "|[31.52575242,11.3...|         1.0|[-1.1541487305907...|[0.09043809630232...|       1.0|\n",
      "|[31.53160448,13.3...|         1.0|[-1.3431226562967...|[0.06378988410822...|       1.0|\n",
      "|[31.57613197,12.5...|         0.0|[-0.7646634220195...|[0.17809219788631...|       1.0|\n",
      "|[31.62536013,13.1...|         1.0|[-1.4773769075964...|[0.04951231329649...|       1.0|\n",
      "|[31.66104982,11.3...|         1.0|[-1.2612535316879...|[0.07429533640056...|       1.0|\n",
      "|[31.72420252,13.1...|         0.0|[-1.4338866771117...|[0.05376982820395...|       1.0|\n",
      "|[31.82797906,12.4...|         1.0|[-1.4775383669524...|[0.04949711867982...|       1.0|\n",
      "|[31.8530748,12.14...|         1.0|[-1.3589106728843...|[0.06192991357660...|       1.0|\n",
      "|[31.86274111,14.0...|         0.0|[1.41101170273547...|[0.94385438967117...|       0.0|\n",
      "|[31.87455169,10.2...|         1.0|[-1.6315353095165...|[0.03686004292046...|       1.0|\n",
      "|[31.90485713,12.2...|         1.0|[0.50597907403646...|[0.73340318707150...|       0.0|\n",
      "|[31.94801742,13.0...|         1.0|[-1.0789273592987...|[0.10359950720244...|       1.0|\n",
      "+--------------------+------------+--------------------+--------------------+----------+\n",
      "only showing top 20 rows\n",
      "\n"
     ]
    }
   ],
   "source": [
    "gbt_preds.show()"
   ]
  },
  {
   "cell_type": "code",
   "execution_count": 26,
   "metadata": {},
   "outputs": [],
   "source": [
    "from pyspark.ml.evaluation import BinaryClassificationEvaluator"
   ]
  },
  {
   "cell_type": "code",
   "execution_count": 27,
   "metadata": {},
   "outputs": [],
   "source": [
    "my_bin_eval = BinaryClassificationEvaluator(labelCol='PrivateIndex')"
   ]
  },
  {
   "cell_type": "code",
   "execution_count": 28,
   "metadata": {},
   "outputs": [
    {
     "name": "stdout",
     "output_type": "stream",
     "text": [
      "DTC\n",
      "0.8287712287712288\n"
     ]
    }
   ],
   "source": [
    "print('DTC')\n",
    "print(my_bin_eval.evaluate(dtc_preds))"
   ]
  },
  {
   "cell_type": "code",
   "execution_count": 29,
   "metadata": {},
   "outputs": [
    {
     "name": "stdout",
     "output_type": "stream",
     "text": [
      "Test Error = 0.171229\n"
     ]
    }
   ],
   "source": [
    "print(\"Test Error = %g\" % (1.0 - my_bin_eval.evaluate(dtc_preds) ))"
   ]
  },
  {
   "cell_type": "code",
   "execution_count": 30,
   "metadata": {},
   "outputs": [
    {
     "name": "stdout",
     "output_type": "stream",
     "text": [
      "rfC\n",
      "0.9587412587412587\n"
     ]
    }
   ],
   "source": [
    "print('rfC')\n",
    "print(my_bin_eval.evaluate(rfc_preds))"
   ]
  },
  {
   "cell_type": "code",
   "execution_count": 31,
   "metadata": {},
   "outputs": [
    {
     "name": "stdout",
     "output_type": "stream",
     "text": [
      "Test Error = 0.0412587\n"
     ]
    }
   ],
   "source": [
    "print(\"Test Error = %g\" % (1.0 - my_bin_eval.evaluate(rfc_preds) ))"
   ]
  },
  {
   "cell_type": "code",
   "execution_count": 32,
   "metadata": {},
   "outputs": [
    {
     "name": "stdout",
     "output_type": "stream",
     "text": [
      "GBT\n",
      "0.9343656343656344\n"
     ]
    }
   ],
   "source": [
    "print('GBT')\n",
    "print(my_bin_eval.evaluate(gbt_preds))"
   ]
  },
  {
   "cell_type": "code",
   "execution_count": 33,
   "metadata": {},
   "outputs": [
    {
     "name": "stdout",
     "output_type": "stream",
     "text": [
      "Test Error = 0.0656344\n"
     ]
    }
   ],
   "source": [
    "print(\"Test Error = %g\" % (1.0 - my_bin_eval.evaluate(gbt_preds) ))"
   ]
  },
  {
   "cell_type": "code",
   "execution_count": 34,
   "metadata": {},
   "outputs": [],
   "source": [
    "my_bin_eval2 = BinaryClassificationEvaluator(labelCol='PrivateIndex',rawPredictionCol='prediction')"
   ]
  },
  {
   "cell_type": "code",
   "execution_count": 35,
   "metadata": {},
   "outputs": [
    {
     "name": "stdout",
     "output_type": "stream",
     "text": [
      "DTC\n",
      "0.8362637362637363\n"
     ]
    }
   ],
   "source": [
    "print('DTC')\n",
    "print(my_bin_eval2.evaluate(dtc_preds))"
   ]
  },
  {
   "cell_type": "code",
   "execution_count": 36,
   "metadata": {},
   "outputs": [
    {
     "name": "stdout",
     "output_type": "stream",
     "text": [
      "Test Error = 0.163736\n"
     ]
    }
   ],
   "source": [
    "print(\"Test Error = %g\" % (1.0 - my_bin_eval2.evaluate(dtc_preds) ))"
   ]
  },
  {
   "cell_type": "code",
   "execution_count": 37,
   "metadata": {},
   "outputs": [
    {
     "name": "stdout",
     "output_type": "stream",
     "text": [
      "RFC\n",
      "0.8942057942057942\n"
     ]
    }
   ],
   "source": [
    "print('RFC')\n",
    "print(my_bin_eval2.evaluate(rfc_preds))"
   ]
  },
  {
   "cell_type": "code",
   "execution_count": 38,
   "metadata": {},
   "outputs": [
    {
     "name": "stdout",
     "output_type": "stream",
     "text": [
      "Test Error = 0.105794\n"
     ]
    }
   ],
   "source": [
    "print(\"Test Error = %g\" % (1.0 - my_bin_eval2.evaluate(rfc_preds) ))"
   ]
  },
  {
   "cell_type": "code",
   "execution_count": 39,
   "metadata": {},
   "outputs": [
    {
     "name": "stdout",
     "output_type": "stream",
     "text": [
      "GBT\n",
      "0.8297702297702296\n"
     ]
    }
   ],
   "source": [
    "print('GBT')\n",
    "print(my_bin_eval2.evaluate(gbt_preds))"
   ]
  },
  {
   "cell_type": "code",
   "execution_count": 40,
   "metadata": {},
   "outputs": [
    {
     "name": "stdout",
     "output_type": "stream",
     "text": [
      "Test Error = 0.17023\n"
     ]
    }
   ],
   "source": [
    "print(\"Test Error = %g\" % (1.0 - my_bin_eval2.evaluate(gbt_preds) ))"
   ]
  },
  {
   "cell_type": "code",
   "execution_count": 41,
   "metadata": {},
   "outputs": [],
   "source": [
    "from pyspark.ml.evaluation import MulticlassClassificationEvaluator"
   ]
  },
  {
   "cell_type": "code",
   "execution_count": 42,
   "metadata": {},
   "outputs": [],
   "source": [
    "acc_eval = MulticlassClassificationEvaluator(labelCol='PrivateIndex',metricName='accuracy')"
   ]
  },
  {
   "cell_type": "code",
   "execution_count": 44,
   "metadata": {},
   "outputs": [],
   "source": [
    "dtc_acc = acc_eval.evaluate(dtc_preds)\n",
    "rfc_acc = acc_eval.evaluate(rfc_preds)\n",
    "gbt_acc = acc_eval.evaluate(gbt_preds)"
   ]
  },
  {
   "cell_type": "code",
   "execution_count": 45,
   "metadata": {},
   "outputs": [
    {
     "data": {
      "text/plain": [
       "0.8380281690140845"
      ]
     },
     "execution_count": 45,
     "metadata": {},
     "output_type": "execute_result"
    }
   ],
   "source": [
    "dtc_acc"
   ]
  },
  {
   "cell_type": "code",
   "execution_count": 46,
   "metadata": {},
   "outputs": [
    {
     "data": {
      "text/plain": [
       "0.8943661971830986"
      ]
     },
     "execution_count": 46,
     "metadata": {},
     "output_type": "execute_result"
    }
   ],
   "source": [
    "rfc_acc"
   ]
  },
  {
   "cell_type": "code",
   "execution_count": 47,
   "metadata": {},
   "outputs": [
    {
     "data": {
      "text/plain": [
       "0.8309859154929577"
      ]
     },
     "execution_count": 47,
     "metadata": {},
     "output_type": "execute_result"
    }
   ],
   "source": [
    "gbt_acc"
   ]
  },
  {
   "cell_type": "code",
   "execution_count": 48,
   "metadata": {},
   "outputs": [
    {
     "name": "stdout",
     "output_type": "stream",
     "text": [
      "error rate: 0.1619718309859155\n"
     ]
    }
   ],
   "source": [
    "print(\"error rate:\",1-dtc_acc)"
   ]
  },
  {
   "cell_type": "code",
   "execution_count": 49,
   "metadata": {},
   "outputs": [
    {
     "name": "stdout",
     "output_type": "stream",
     "text": [
      "error rate: 0.10563380281690138\n"
     ]
    }
   ],
   "source": [
    "print(\"error rate:\",1-rfc_acc)"
   ]
  },
  {
   "cell_type": "code",
   "execution_count": 63,
   "metadata": {},
   "outputs": [
    {
     "name": "stdout",
     "output_type": "stream",
     "text": [
      "error rate: 0.16901408450704225\n"
     ]
    }
   ],
   "source": [
    "print(\"error rate:\",1-gbt_acc)"
   ]
  },
  {
   "cell_type": "code",
   "execution_count": null,
   "metadata": {},
   "outputs": [],
   "source": [
    "#logistic regression"
   ]
  },
  {
   "cell_type": "code",
   "execution_count": 51,
   "metadata": {},
   "outputs": [],
   "source": [
    "from pyspark.ml.classification import LogisticRegression"
   ]
  },
  {
   "cell_type": "code",
   "execution_count": 52,
   "metadata": {},
   "outputs": [],
   "source": [
    "lr = LogisticRegression(labelCol='PrivateIndex')"
   ]
  },
  {
   "cell_type": "code",
   "execution_count": 53,
   "metadata": {},
   "outputs": [],
   "source": [
    "fit_model = lr.fit(train_data)"
   ]
  },
  {
   "cell_type": "code",
   "execution_count": 54,
   "metadata": {},
   "outputs": [],
   "source": [
    "train_sum = fit_model.summary"
   ]
  },
  {
   "cell_type": "code",
   "execution_count": 55,
   "metadata": {},
   "outputs": [
    {
     "name": "stdout",
     "output_type": "stream",
     "text": [
      "+-------+-------------------+------------------+\n",
      "|summary|       PrivateIndex|        prediction|\n",
      "+-------+-------------------+------------------+\n",
      "|  count|                358|               358|\n",
      "|   mean|0.46368715083798884|0.4581005586592179|\n",
      "| stddev|0.49937757606433764|0.4989386729683723|\n",
      "|    min|                0.0|               0.0|\n",
      "|    max|                1.0|               1.0|\n",
      "+-------+-------------------+------------------+\n",
      "\n"
     ]
    }
   ],
   "source": [
    "train_sum.predictions.describe().show()"
   ]
  },
  {
   "cell_type": "code",
   "execution_count": 56,
   "metadata": {},
   "outputs": [],
   "source": [
    "pl = fit_model.evaluate(test_data)"
   ]
  },
  {
   "cell_type": "code",
   "execution_count": 57,
   "metadata": {},
   "outputs": [
    {
     "name": "stdout",
     "output_type": "stream",
     "text": [
      "+--------------------+------------+--------------------+--------------------+----------+\n",
      "|            features|PrivateIndex|       rawPrediction|         probability|prediction|\n",
      "+--------------------+------------+--------------------+--------------------+----------+\n",
      "|[30.57436368,11.3...|         1.0|[-4.0532762178330...|[0.01706897909141...|       1.0|\n",
      "|[30.73772037,12.6...|         1.0|[-3.6101437152721...|[0.02633563421754...|       1.0|\n",
      "|[31.06132516,12.3...|         1.0|[-0.6530914180502...|[0.34229323186472...|       1.0|\n",
      "|[31.06621816,11.7...|         1.0|[-2.6452603866882...|[0.06628173459938...|       1.0|\n",
      "|[31.26064687,13.2...|         1.0|[-5.3733720142478...|[0.00461704793296...|       1.0|\n",
      "|[31.38958548,10.9...|         1.0|[-5.7991833864377...|[0.00302087476198...|       1.0|\n",
      "|[31.44744649,10.1...|         1.0|[-4.5587676841338...|[0.01036637212411...|       1.0|\n",
      "|[31.5171218,10.74...|         1.0|[-14.213453184397...|[6.71700113232204...|       1.0|\n",
      "|[31.52575242,11.3...|         1.0|[-3.2227436702865...|[0.03831875191579...|       1.0|\n",
      "|[31.53160448,13.3...|         1.0|[-4.4682147684774...|[0.01133775148333...|       1.0|\n",
      "|[31.57613197,12.5...|         0.0|[2.83139009917678...|[0.94434870280536...|       0.0|\n",
      "|[31.62536013,13.1...|         1.0|[-7.9541161576065...|[3.51090227376135...|       1.0|\n",
      "|[31.66104982,11.3...|         1.0|[-5.3410075756075...|[0.00476819631776...|       1.0|\n",
      "|[31.72420252,13.1...|         0.0|[0.52461290786408...|[0.62822578426124...|       0.0|\n",
      "|[31.82797906,12.4...|         1.0|[-3.2462019757895...|[0.03746360407231...|       1.0|\n",
      "|[31.8530748,12.14...|         1.0|[-2.3871608729610...|[0.08415699827944...|       1.0|\n",
      "|[31.86274111,14.0...|         0.0|[3.72935326105516...|[0.97655452929624...|       0.0|\n",
      "|[31.87455169,10.2...|         1.0|[-6.3723407284298...|[0.00170524339050...|       1.0|\n",
      "|[31.90485713,12.2...|         1.0|[-0.4562973855666...|[0.38786455362083...|       1.0|\n",
      "|[31.94801742,13.0...|         1.0|[-2.7937817517886...|[0.05766112473189...|       1.0|\n",
      "+--------------------+------------+--------------------+--------------------+----------+\n",
      "only showing top 20 rows\n",
      "\n"
     ]
    }
   ],
   "source": [
    "pl.predictions.show()"
   ]
  },
  {
   "cell_type": "code",
   "execution_count": 58,
   "metadata": {},
   "outputs": [],
   "source": [
    "eva1 = BinaryClassificationEvaluator(rawPredictionCol='prediction', labelCol='PrivateIndex')"
   ]
  },
  {
   "cell_type": "code",
   "execution_count": 60,
   "metadata": {},
   "outputs": [
    {
     "data": {
      "text/plain": [
       "0.9148851148851148"
      ]
     },
     "execution_count": 60,
     "metadata": {},
     "output_type": "execute_result"
    }
   ],
   "source": [
    "eva1.evaluate(pl.predictions)"
   ]
  },
  {
   "cell_type": "code",
   "execution_count": 61,
   "metadata": {},
   "outputs": [],
   "source": [
    "eva2 = MulticlassClassificationEvaluator(predictionCol='prediction', labelCol='PrivateIndex',\n",
    "                                             metricName='accuracy')"
   ]
  },
  {
   "cell_type": "code",
   "execution_count": 62,
   "metadata": {},
   "outputs": [
    {
     "data": {
      "text/plain": [
       "0.9154929577464789"
      ]
     },
     "execution_count": 62,
     "metadata": {},
     "output_type": "execute_result"
    }
   ],
   "source": [
    "eva2.evaluate(pl.predictions)"
   ]
  },
  {
   "cell_type": "code",
   "execution_count": null,
   "metadata": {},
   "outputs": [],
   "source": []
  }
 ],
 "metadata": {
  "kernelspec": {
   "display_name": "Python 3",
   "language": "python",
   "name": "python3"
  },
  "language_info": {
   "codemirror_mode": {
    "name": "ipython",
    "version": 3
   },
   "file_extension": ".py",
   "mimetype": "text/x-python",
   "name": "python",
   "nbconvert_exporter": "python",
   "pygments_lexer": "ipython3",
   "version": "3.6.9"
  }
 },
 "nbformat": 4,
 "nbformat_minor": 2
}
